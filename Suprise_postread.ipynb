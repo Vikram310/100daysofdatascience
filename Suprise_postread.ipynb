{
  "cells": [
    {
      "cell_type": "markdown",
      "metadata": {
        "id": "view-in-github",
        "colab_type": "text"
      },
      "source": [
        "<a href=\"https://colab.research.google.com/github/Vikram310/100daysofdatascience/blob/main/Suprise_postread.ipynb\" target=\"_parent\"><img src=\"https://colab.research.google.com/assets/colab-badge.svg\" alt=\"Open In Colab\"/></a>"
      ]
    },
    {
      "cell_type": "markdown",
      "id": "bf1b1715",
      "metadata": {
        "id": "bf1b1715"
      },
      "source": [
        "# Suprise Library"
      ]
    },
    {
      "cell_type": "markdown",
      "id": "6556f7a8",
      "metadata": {
        "id": "6556f7a8"
      },
      "source": [
        "**Surprise** is a Python scikit for building and analyzing recommender systems that deal with explicit rating data."
      ]
    },
    {
      "cell_type": "markdown",
      "id": "2f329416",
      "metadata": {
        "id": "2f329416"
      },
      "source": [
        "### Installation:\n",
        "\n",
        "You can install Surprise with pip using the following command:"
      ]
    },
    {
      "cell_type": "markdown",
      "id": "b7466055",
      "metadata": {
        "id": "b7466055"
      },
      "source": [
        "## ```pip install scikit-surprise```"
      ]
    },
    {
      "cell_type": "markdown",
      "id": "51b83a7b",
      "metadata": {
        "id": "51b83a7b"
      },
      "source": [
        "Surprise is a Python module that allows you to create and test rate prediction systems. It was created to closely resemble the scikit-learn API, which users familiar with the Python machine learning ecosystem should be comfortable with. \n",
        "\n",
        "Surprise includes a set of estimators (or prediction algorithms) for evaluating predictions. Classic techniques, such as the main similarity-based algorithms, as well as matrix factorization algorithms like SVD are implemented.\n",
        "\n",
        "It also includes tools for model evaluation, such as cross-validation iterators and scikit-built-in learned metrics, as well as grid search and randomized search for model selection and automatic hyper-parameter search. "
      ]
    },
    {
      "cell_type": "code",
      "execution_count": null,
      "id": "079742e4",
      "metadata": {
        "id": "079742e4"
      },
      "outputs": [],
      "source": [
        "# Loading the necessary libraries"
      ]
    },
    {
      "cell_type": "code",
      "execution_count": null,
      "id": "4343586a",
      "metadata": {
        "id": "4343586a"
      },
      "outputs": [],
      "source": [
        "import numpy as np\n",
        "import pandas as pd\n",
        "import warnings\n",
        "warnings.filterwarnings('ignore')"
      ]
    },
    {
      "cell_type": "code",
      "source": [
        "# Reading the data"
      ],
      "metadata": {
        "id": "PX60pGrxuCkN"
      },
      "id": "PX60pGrxuCkN",
      "execution_count": null,
      "outputs": []
    },
    {
      "cell_type": "code",
      "execution_count": null,
      "id": "b3845ad9",
      "metadata": {
        "id": "b3845ad9"
      },
      "outputs": [],
      "source": [
        "movies = pd.read_csv('movies.csv')\n",
        "ratings = pd.read_csv('ratings.csv')\n",
        "users = pd.read_csv('users.csv')"
      ]
    },
    {
      "cell_type": "code",
      "execution_count": null,
      "id": "5a4dffba",
      "metadata": {
        "id": "5a4dffba",
        "outputId": "6cc4c149-cb60-46e3-a015-944225b3a54f",
        "colab": {
          "base_uri": "https://localhost:8080/",
          "height": 206
        }
      },
      "outputs": [
        {
          "output_type": "execute_result",
          "data": {
            "text/plain": [
              "   movieId                               title  \\\n",
              "0        1                    Toy Story (1995)   \n",
              "1        2                      Jumanji (1995)   \n",
              "2        3             Grumpier Old Men (1995)   \n",
              "3        4            Waiting to Exhale (1995)   \n",
              "4        5  Father of the Bride Part II (1995)   \n",
              "\n",
              "                                        genres  \n",
              "0  Adventure|Animation|Children|Comedy|Fantasy  \n",
              "1                   Adventure|Children|Fantasy  \n",
              "2                               Comedy|Romance  \n",
              "3                         Comedy|Drama|Romance  \n",
              "4                                       Comedy  "
            ],
            "text/html": [
              "\n",
              "  <div id=\"df-eb0e6dea-92e6-4cd1-8165-d11527423b25\">\n",
              "    <div class=\"colab-df-container\">\n",
              "      <div>\n",
              "<style scoped>\n",
              "    .dataframe tbody tr th:only-of-type {\n",
              "        vertical-align: middle;\n",
              "    }\n",
              "\n",
              "    .dataframe tbody tr th {\n",
              "        vertical-align: top;\n",
              "    }\n",
              "\n",
              "    .dataframe thead th {\n",
              "        text-align: right;\n",
              "    }\n",
              "</style>\n",
              "<table border=\"1\" class=\"dataframe\">\n",
              "  <thead>\n",
              "    <tr style=\"text-align: right;\">\n",
              "      <th></th>\n",
              "      <th>movieId</th>\n",
              "      <th>title</th>\n",
              "      <th>genres</th>\n",
              "    </tr>\n",
              "  </thead>\n",
              "  <tbody>\n",
              "    <tr>\n",
              "      <th>0</th>\n",
              "      <td>1</td>\n",
              "      <td>Toy Story (1995)</td>\n",
              "      <td>Adventure|Animation|Children|Comedy|Fantasy</td>\n",
              "    </tr>\n",
              "    <tr>\n",
              "      <th>1</th>\n",
              "      <td>2</td>\n",
              "      <td>Jumanji (1995)</td>\n",
              "      <td>Adventure|Children|Fantasy</td>\n",
              "    </tr>\n",
              "    <tr>\n",
              "      <th>2</th>\n",
              "      <td>3</td>\n",
              "      <td>Grumpier Old Men (1995)</td>\n",
              "      <td>Comedy|Romance</td>\n",
              "    </tr>\n",
              "    <tr>\n",
              "      <th>3</th>\n",
              "      <td>4</td>\n",
              "      <td>Waiting to Exhale (1995)</td>\n",
              "      <td>Comedy|Drama|Romance</td>\n",
              "    </tr>\n",
              "    <tr>\n",
              "      <th>4</th>\n",
              "      <td>5</td>\n",
              "      <td>Father of the Bride Part II (1995)</td>\n",
              "      <td>Comedy</td>\n",
              "    </tr>\n",
              "  </tbody>\n",
              "</table>\n",
              "</div>\n",
              "      <button class=\"colab-df-convert\" onclick=\"convertToInteractive('df-eb0e6dea-92e6-4cd1-8165-d11527423b25')\"\n",
              "              title=\"Convert this dataframe to an interactive table.\"\n",
              "              style=\"display:none;\">\n",
              "        \n",
              "  <svg xmlns=\"http://www.w3.org/2000/svg\" height=\"24px\"viewBox=\"0 0 24 24\"\n",
              "       width=\"24px\">\n",
              "    <path d=\"M0 0h24v24H0V0z\" fill=\"none\"/>\n",
              "    <path d=\"M18.56 5.44l.94 2.06.94-2.06 2.06-.94-2.06-.94-.94-2.06-.94 2.06-2.06.94zm-11 1L8.5 8.5l.94-2.06 2.06-.94-2.06-.94L8.5 2.5l-.94 2.06-2.06.94zm10 10l.94 2.06.94-2.06 2.06-.94-2.06-.94-.94-2.06-.94 2.06-2.06.94z\"/><path d=\"M17.41 7.96l-1.37-1.37c-.4-.4-.92-.59-1.43-.59-.52 0-1.04.2-1.43.59L10.3 9.45l-7.72 7.72c-.78.78-.78 2.05 0 2.83L4 21.41c.39.39.9.59 1.41.59.51 0 1.02-.2 1.41-.59l7.78-7.78 2.81-2.81c.8-.78.8-2.07 0-2.86zM5.41 20L4 18.59l7.72-7.72 1.47 1.35L5.41 20z\"/>\n",
              "  </svg>\n",
              "      </button>\n",
              "      \n",
              "  <style>\n",
              "    .colab-df-container {\n",
              "      display:flex;\n",
              "      flex-wrap:wrap;\n",
              "      gap: 12px;\n",
              "    }\n",
              "\n",
              "    .colab-df-convert {\n",
              "      background-color: #E8F0FE;\n",
              "      border: none;\n",
              "      border-radius: 50%;\n",
              "      cursor: pointer;\n",
              "      display: none;\n",
              "      fill: #1967D2;\n",
              "      height: 32px;\n",
              "      padding: 0 0 0 0;\n",
              "      width: 32px;\n",
              "    }\n",
              "\n",
              "    .colab-df-convert:hover {\n",
              "      background-color: #E2EBFA;\n",
              "      box-shadow: 0px 1px 2px rgba(60, 64, 67, 0.3), 0px 1px 3px 1px rgba(60, 64, 67, 0.15);\n",
              "      fill: #174EA6;\n",
              "    }\n",
              "\n",
              "    [theme=dark] .colab-df-convert {\n",
              "      background-color: #3B4455;\n",
              "      fill: #D2E3FC;\n",
              "    }\n",
              "\n",
              "    [theme=dark] .colab-df-convert:hover {\n",
              "      background-color: #434B5C;\n",
              "      box-shadow: 0px 1px 3px 1px rgba(0, 0, 0, 0.15);\n",
              "      filter: drop-shadow(0px 1px 2px rgba(0, 0, 0, 0.3));\n",
              "      fill: #FFFFFF;\n",
              "    }\n",
              "  </style>\n",
              "\n",
              "      <script>\n",
              "        const buttonEl =\n",
              "          document.querySelector('#df-eb0e6dea-92e6-4cd1-8165-d11527423b25 button.colab-df-convert');\n",
              "        buttonEl.style.display =\n",
              "          google.colab.kernel.accessAllowed ? 'block' : 'none';\n",
              "\n",
              "        async function convertToInteractive(key) {\n",
              "          const element = document.querySelector('#df-eb0e6dea-92e6-4cd1-8165-d11527423b25');\n",
              "          const dataTable =\n",
              "            await google.colab.kernel.invokeFunction('convertToInteractive',\n",
              "                                                     [key], {});\n",
              "          if (!dataTable) return;\n",
              "\n",
              "          const docLinkHtml = 'Like what you see? Visit the ' +\n",
              "            '<a target=\"_blank\" href=https://colab.research.google.com/notebooks/data_table.ipynb>data table notebook</a>'\n",
              "            + ' to learn more about interactive tables.';\n",
              "          element.innerHTML = '';\n",
              "          dataTable['output_type'] = 'display_data';\n",
              "          await google.colab.output.renderOutput(dataTable, element);\n",
              "          const docLink = document.createElement('div');\n",
              "          docLink.innerHTML = docLinkHtml;\n",
              "          element.appendChild(docLink);\n",
              "        }\n",
              "      </script>\n",
              "    </div>\n",
              "  </div>\n",
              "  "
            ]
          },
          "metadata": {},
          "execution_count": 5
        }
      ],
      "source": [
        "movies.head()"
      ]
    },
    {
      "cell_type": "code",
      "execution_count": null,
      "id": "fe04be21",
      "metadata": {
        "id": "fe04be21",
        "outputId": "9ee2daa2-86ba-4746-9305-bdd02c17a76e",
        "colab": {
          "base_uri": "https://localhost:8080/",
          "height": 206
        }
      },
      "outputs": [
        {
          "output_type": "execute_result",
          "data": {
            "text/plain": [
              "   userId  movieId  rating   timestamp\n",
              "0       1       16     4.0  1217897793\n",
              "1       1       24     1.5  1217895807\n",
              "2       1       32     4.0  1217896246\n",
              "3       1       47     4.0  1217896556\n",
              "4       1       50     4.0  1217896523"
            ],
            "text/html": [
              "\n",
              "  <div id=\"df-a9c06c3a-78e6-4a0d-8ccc-dca3e93a625a\">\n",
              "    <div class=\"colab-df-container\">\n",
              "      <div>\n",
              "<style scoped>\n",
              "    .dataframe tbody tr th:only-of-type {\n",
              "        vertical-align: middle;\n",
              "    }\n",
              "\n",
              "    .dataframe tbody tr th {\n",
              "        vertical-align: top;\n",
              "    }\n",
              "\n",
              "    .dataframe thead th {\n",
              "        text-align: right;\n",
              "    }\n",
              "</style>\n",
              "<table border=\"1\" class=\"dataframe\">\n",
              "  <thead>\n",
              "    <tr style=\"text-align: right;\">\n",
              "      <th></th>\n",
              "      <th>userId</th>\n",
              "      <th>movieId</th>\n",
              "      <th>rating</th>\n",
              "      <th>timestamp</th>\n",
              "    </tr>\n",
              "  </thead>\n",
              "  <tbody>\n",
              "    <tr>\n",
              "      <th>0</th>\n",
              "      <td>1</td>\n",
              "      <td>16</td>\n",
              "      <td>4.0</td>\n",
              "      <td>1217897793</td>\n",
              "    </tr>\n",
              "    <tr>\n",
              "      <th>1</th>\n",
              "      <td>1</td>\n",
              "      <td>24</td>\n",
              "      <td>1.5</td>\n",
              "      <td>1217895807</td>\n",
              "    </tr>\n",
              "    <tr>\n",
              "      <th>2</th>\n",
              "      <td>1</td>\n",
              "      <td>32</td>\n",
              "      <td>4.0</td>\n",
              "      <td>1217896246</td>\n",
              "    </tr>\n",
              "    <tr>\n",
              "      <th>3</th>\n",
              "      <td>1</td>\n",
              "      <td>47</td>\n",
              "      <td>4.0</td>\n",
              "      <td>1217896556</td>\n",
              "    </tr>\n",
              "    <tr>\n",
              "      <th>4</th>\n",
              "      <td>1</td>\n",
              "      <td>50</td>\n",
              "      <td>4.0</td>\n",
              "      <td>1217896523</td>\n",
              "    </tr>\n",
              "  </tbody>\n",
              "</table>\n",
              "</div>\n",
              "      <button class=\"colab-df-convert\" onclick=\"convertToInteractive('df-a9c06c3a-78e6-4a0d-8ccc-dca3e93a625a')\"\n",
              "              title=\"Convert this dataframe to an interactive table.\"\n",
              "              style=\"display:none;\">\n",
              "        \n",
              "  <svg xmlns=\"http://www.w3.org/2000/svg\" height=\"24px\"viewBox=\"0 0 24 24\"\n",
              "       width=\"24px\">\n",
              "    <path d=\"M0 0h24v24H0V0z\" fill=\"none\"/>\n",
              "    <path d=\"M18.56 5.44l.94 2.06.94-2.06 2.06-.94-2.06-.94-.94-2.06-.94 2.06-2.06.94zm-11 1L8.5 8.5l.94-2.06 2.06-.94-2.06-.94L8.5 2.5l-.94 2.06-2.06.94zm10 10l.94 2.06.94-2.06 2.06-.94-2.06-.94-.94-2.06-.94 2.06-2.06.94z\"/><path d=\"M17.41 7.96l-1.37-1.37c-.4-.4-.92-.59-1.43-.59-.52 0-1.04.2-1.43.59L10.3 9.45l-7.72 7.72c-.78.78-.78 2.05 0 2.83L4 21.41c.39.39.9.59 1.41.59.51 0 1.02-.2 1.41-.59l7.78-7.78 2.81-2.81c.8-.78.8-2.07 0-2.86zM5.41 20L4 18.59l7.72-7.72 1.47 1.35L5.41 20z\"/>\n",
              "  </svg>\n",
              "      </button>\n",
              "      \n",
              "  <style>\n",
              "    .colab-df-container {\n",
              "      display:flex;\n",
              "      flex-wrap:wrap;\n",
              "      gap: 12px;\n",
              "    }\n",
              "\n",
              "    .colab-df-convert {\n",
              "      background-color: #E8F0FE;\n",
              "      border: none;\n",
              "      border-radius: 50%;\n",
              "      cursor: pointer;\n",
              "      display: none;\n",
              "      fill: #1967D2;\n",
              "      height: 32px;\n",
              "      padding: 0 0 0 0;\n",
              "      width: 32px;\n",
              "    }\n",
              "\n",
              "    .colab-df-convert:hover {\n",
              "      background-color: #E2EBFA;\n",
              "      box-shadow: 0px 1px 2px rgba(60, 64, 67, 0.3), 0px 1px 3px 1px rgba(60, 64, 67, 0.15);\n",
              "      fill: #174EA6;\n",
              "    }\n",
              "\n",
              "    [theme=dark] .colab-df-convert {\n",
              "      background-color: #3B4455;\n",
              "      fill: #D2E3FC;\n",
              "    }\n",
              "\n",
              "    [theme=dark] .colab-df-convert:hover {\n",
              "      background-color: #434B5C;\n",
              "      box-shadow: 0px 1px 3px 1px rgba(0, 0, 0, 0.15);\n",
              "      filter: drop-shadow(0px 1px 2px rgba(0, 0, 0, 0.3));\n",
              "      fill: #FFFFFF;\n",
              "    }\n",
              "  </style>\n",
              "\n",
              "      <script>\n",
              "        const buttonEl =\n",
              "          document.querySelector('#df-a9c06c3a-78e6-4a0d-8ccc-dca3e93a625a button.colab-df-convert');\n",
              "        buttonEl.style.display =\n",
              "          google.colab.kernel.accessAllowed ? 'block' : 'none';\n",
              "\n",
              "        async function convertToInteractive(key) {\n",
              "          const element = document.querySelector('#df-a9c06c3a-78e6-4a0d-8ccc-dca3e93a625a');\n",
              "          const dataTable =\n",
              "            await google.colab.kernel.invokeFunction('convertToInteractive',\n",
              "                                                     [key], {});\n",
              "          if (!dataTable) return;\n",
              "\n",
              "          const docLinkHtml = 'Like what you see? Visit the ' +\n",
              "            '<a target=\"_blank\" href=https://colab.research.google.com/notebooks/data_table.ipynb>data table notebook</a>'\n",
              "            + ' to learn more about interactive tables.';\n",
              "          element.innerHTML = '';\n",
              "          dataTable['output_type'] = 'display_data';\n",
              "          await google.colab.output.renderOutput(dataTable, element);\n",
              "          const docLink = document.createElement('div');\n",
              "          docLink.innerHTML = docLinkHtml;\n",
              "          element.appendChild(docLink);\n",
              "        }\n",
              "      </script>\n",
              "    </div>\n",
              "  </div>\n",
              "  "
            ]
          },
          "metadata": {},
          "execution_count": 6
        }
      ],
      "source": [
        "ratings.head()"
      ]
    },
    {
      "cell_type": "code",
      "execution_count": null,
      "id": "6cc816bf",
      "metadata": {
        "id": "6cc816bf",
        "outputId": "092784ae-314e-44d7-8895-ad8e837151ec",
        "colab": {
          "base_uri": "https://localhost:8080/",
          "height": 206
        }
      },
      "outputs": [
        {
          "output_type": "execute_result",
          "data": {
            "text/plain": [
              "   userId  age  time_spent_per_day\n",
              "0       1   16            3.976315\n",
              "1       2   24            1.891303\n",
              "2       3   20            4.521478\n",
              "3       4   23            2.095284\n",
              "4       5   35            1.759860"
            ],
            "text/html": [
              "\n",
              "  <div id=\"df-316af687-d074-4ca8-b059-6902bbac972d\">\n",
              "    <div class=\"colab-df-container\">\n",
              "      <div>\n",
              "<style scoped>\n",
              "    .dataframe tbody tr th:only-of-type {\n",
              "        vertical-align: middle;\n",
              "    }\n",
              "\n",
              "    .dataframe tbody tr th {\n",
              "        vertical-align: top;\n",
              "    }\n",
              "\n",
              "    .dataframe thead th {\n",
              "        text-align: right;\n",
              "    }\n",
              "</style>\n",
              "<table border=\"1\" class=\"dataframe\">\n",
              "  <thead>\n",
              "    <tr style=\"text-align: right;\">\n",
              "      <th></th>\n",
              "      <th>userId</th>\n",
              "      <th>age</th>\n",
              "      <th>time_spent_per_day</th>\n",
              "    </tr>\n",
              "  </thead>\n",
              "  <tbody>\n",
              "    <tr>\n",
              "      <th>0</th>\n",
              "      <td>1</td>\n",
              "      <td>16</td>\n",
              "      <td>3.976315</td>\n",
              "    </tr>\n",
              "    <tr>\n",
              "      <th>1</th>\n",
              "      <td>2</td>\n",
              "      <td>24</td>\n",
              "      <td>1.891303</td>\n",
              "    </tr>\n",
              "    <tr>\n",
              "      <th>2</th>\n",
              "      <td>3</td>\n",
              "      <td>20</td>\n",
              "      <td>4.521478</td>\n",
              "    </tr>\n",
              "    <tr>\n",
              "      <th>3</th>\n",
              "      <td>4</td>\n",
              "      <td>23</td>\n",
              "      <td>2.095284</td>\n",
              "    </tr>\n",
              "    <tr>\n",
              "      <th>4</th>\n",
              "      <td>5</td>\n",
              "      <td>35</td>\n",
              "      <td>1.759860</td>\n",
              "    </tr>\n",
              "  </tbody>\n",
              "</table>\n",
              "</div>\n",
              "      <button class=\"colab-df-convert\" onclick=\"convertToInteractive('df-316af687-d074-4ca8-b059-6902bbac972d')\"\n",
              "              title=\"Convert this dataframe to an interactive table.\"\n",
              "              style=\"display:none;\">\n",
              "        \n",
              "  <svg xmlns=\"http://www.w3.org/2000/svg\" height=\"24px\"viewBox=\"0 0 24 24\"\n",
              "       width=\"24px\">\n",
              "    <path d=\"M0 0h24v24H0V0z\" fill=\"none\"/>\n",
              "    <path d=\"M18.56 5.44l.94 2.06.94-2.06 2.06-.94-2.06-.94-.94-2.06-.94 2.06-2.06.94zm-11 1L8.5 8.5l.94-2.06 2.06-.94-2.06-.94L8.5 2.5l-.94 2.06-2.06.94zm10 10l.94 2.06.94-2.06 2.06-.94-2.06-.94-.94-2.06-.94 2.06-2.06.94z\"/><path d=\"M17.41 7.96l-1.37-1.37c-.4-.4-.92-.59-1.43-.59-.52 0-1.04.2-1.43.59L10.3 9.45l-7.72 7.72c-.78.78-.78 2.05 0 2.83L4 21.41c.39.39.9.59 1.41.59.51 0 1.02-.2 1.41-.59l7.78-7.78 2.81-2.81c.8-.78.8-2.07 0-2.86zM5.41 20L4 18.59l7.72-7.72 1.47 1.35L5.41 20z\"/>\n",
              "  </svg>\n",
              "      </button>\n",
              "      \n",
              "  <style>\n",
              "    .colab-df-container {\n",
              "      display:flex;\n",
              "      flex-wrap:wrap;\n",
              "      gap: 12px;\n",
              "    }\n",
              "\n",
              "    .colab-df-convert {\n",
              "      background-color: #E8F0FE;\n",
              "      border: none;\n",
              "      border-radius: 50%;\n",
              "      cursor: pointer;\n",
              "      display: none;\n",
              "      fill: #1967D2;\n",
              "      height: 32px;\n",
              "      padding: 0 0 0 0;\n",
              "      width: 32px;\n",
              "    }\n",
              "\n",
              "    .colab-df-convert:hover {\n",
              "      background-color: #E2EBFA;\n",
              "      box-shadow: 0px 1px 2px rgba(60, 64, 67, 0.3), 0px 1px 3px 1px rgba(60, 64, 67, 0.15);\n",
              "      fill: #174EA6;\n",
              "    }\n",
              "\n",
              "    [theme=dark] .colab-df-convert {\n",
              "      background-color: #3B4455;\n",
              "      fill: #D2E3FC;\n",
              "    }\n",
              "\n",
              "    [theme=dark] .colab-df-convert:hover {\n",
              "      background-color: #434B5C;\n",
              "      box-shadow: 0px 1px 3px 1px rgba(0, 0, 0, 0.15);\n",
              "      filter: drop-shadow(0px 1px 2px rgba(0, 0, 0, 0.3));\n",
              "      fill: #FFFFFF;\n",
              "    }\n",
              "  </style>\n",
              "\n",
              "      <script>\n",
              "        const buttonEl =\n",
              "          document.querySelector('#df-316af687-d074-4ca8-b059-6902bbac972d button.colab-df-convert');\n",
              "        buttonEl.style.display =\n",
              "          google.colab.kernel.accessAllowed ? 'block' : 'none';\n",
              "\n",
              "        async function convertToInteractive(key) {\n",
              "          const element = document.querySelector('#df-316af687-d074-4ca8-b059-6902bbac972d');\n",
              "          const dataTable =\n",
              "            await google.colab.kernel.invokeFunction('convertToInteractive',\n",
              "                                                     [key], {});\n",
              "          if (!dataTable) return;\n",
              "\n",
              "          const docLinkHtml = 'Like what you see? Visit the ' +\n",
              "            '<a target=\"_blank\" href=https://colab.research.google.com/notebooks/data_table.ipynb>data table notebook</a>'\n",
              "            + ' to learn more about interactive tables.';\n",
              "          element.innerHTML = '';\n",
              "          dataTable['output_type'] = 'display_data';\n",
              "          await google.colab.output.renderOutput(dataTable, element);\n",
              "          const docLink = document.createElement('div');\n",
              "          docLink.innerHTML = docLinkHtml;\n",
              "          element.appendChild(docLink);\n",
              "        }\n",
              "      </script>\n",
              "    </div>\n",
              "  </div>\n",
              "  "
            ]
          },
          "metadata": {},
          "execution_count": 7
        }
      ],
      "source": [
        "users.head()"
      ]
    },
    {
      "cell_type": "code",
      "source": [
        "## Data Preprocessing"
      ],
      "metadata": {
        "id": "ylf4KSsuuGSR"
      },
      "id": "ylf4KSsuuGSR",
      "execution_count": null,
      "outputs": []
    },
    {
      "cell_type": "code",
      "execution_count": null,
      "id": "d837a857",
      "metadata": {
        "id": "d837a857"
      },
      "outputs": [],
      "source": [
        "## Merging the dataframes"
      ]
    },
    {
      "cell_type": "code",
      "execution_count": null,
      "id": "f2c26f91",
      "metadata": {
        "id": "f2c26f91",
        "outputId": "a493f2ed-dd07-444f-e0fc-c6d28aec0e32",
        "colab": {
          "base_uri": "https://localhost:8080/",
          "height": 206
        }
      },
      "outputs": [
        {
          "output_type": "execute_result",
          "data": {
            "text/plain": [
              "   movieId             title                                       genres  \\\n",
              "0        1  Toy Story (1995)  Adventure|Animation|Children|Comedy|Fantasy   \n",
              "1        1  Toy Story (1995)  Adventure|Animation|Children|Comedy|Fantasy   \n",
              "2        1  Toy Story (1995)  Adventure|Animation|Children|Comedy|Fantasy   \n",
              "3        1  Toy Story (1995)  Adventure|Animation|Children|Comedy|Fantasy   \n",
              "4        1  Toy Story (1995)  Adventure|Animation|Children|Comedy|Fantasy   \n",
              "\n",
              "   userId  rating   timestamp  \n",
              "0       2     5.0   859046895  \n",
              "1       5     4.0  1303501039  \n",
              "2       8     5.0   858610933  \n",
              "3      11     4.0   850815810  \n",
              "4      14     4.0   851766286  "
            ],
            "text/html": [
              "\n",
              "  <div id=\"df-d50b16d8-a8f4-4437-9590-d083cd6addef\">\n",
              "    <div class=\"colab-df-container\">\n",
              "      <div>\n",
              "<style scoped>\n",
              "    .dataframe tbody tr th:only-of-type {\n",
              "        vertical-align: middle;\n",
              "    }\n",
              "\n",
              "    .dataframe tbody tr th {\n",
              "        vertical-align: top;\n",
              "    }\n",
              "\n",
              "    .dataframe thead th {\n",
              "        text-align: right;\n",
              "    }\n",
              "</style>\n",
              "<table border=\"1\" class=\"dataframe\">\n",
              "  <thead>\n",
              "    <tr style=\"text-align: right;\">\n",
              "      <th></th>\n",
              "      <th>movieId</th>\n",
              "      <th>title</th>\n",
              "      <th>genres</th>\n",
              "      <th>userId</th>\n",
              "      <th>rating</th>\n",
              "      <th>timestamp</th>\n",
              "    </tr>\n",
              "  </thead>\n",
              "  <tbody>\n",
              "    <tr>\n",
              "      <th>0</th>\n",
              "      <td>1</td>\n",
              "      <td>Toy Story (1995)</td>\n",
              "      <td>Adventure|Animation|Children|Comedy|Fantasy</td>\n",
              "      <td>2</td>\n",
              "      <td>5.0</td>\n",
              "      <td>859046895</td>\n",
              "    </tr>\n",
              "    <tr>\n",
              "      <th>1</th>\n",
              "      <td>1</td>\n",
              "      <td>Toy Story (1995)</td>\n",
              "      <td>Adventure|Animation|Children|Comedy|Fantasy</td>\n",
              "      <td>5</td>\n",
              "      <td>4.0</td>\n",
              "      <td>1303501039</td>\n",
              "    </tr>\n",
              "    <tr>\n",
              "      <th>2</th>\n",
              "      <td>1</td>\n",
              "      <td>Toy Story (1995)</td>\n",
              "      <td>Adventure|Animation|Children|Comedy|Fantasy</td>\n",
              "      <td>8</td>\n",
              "      <td>5.0</td>\n",
              "      <td>858610933</td>\n",
              "    </tr>\n",
              "    <tr>\n",
              "      <th>3</th>\n",
              "      <td>1</td>\n",
              "      <td>Toy Story (1995)</td>\n",
              "      <td>Adventure|Animation|Children|Comedy|Fantasy</td>\n",
              "      <td>11</td>\n",
              "      <td>4.0</td>\n",
              "      <td>850815810</td>\n",
              "    </tr>\n",
              "    <tr>\n",
              "      <th>4</th>\n",
              "      <td>1</td>\n",
              "      <td>Toy Story (1995)</td>\n",
              "      <td>Adventure|Animation|Children|Comedy|Fantasy</td>\n",
              "      <td>14</td>\n",
              "      <td>4.0</td>\n",
              "      <td>851766286</td>\n",
              "    </tr>\n",
              "  </tbody>\n",
              "</table>\n",
              "</div>\n",
              "      <button class=\"colab-df-convert\" onclick=\"convertToInteractive('df-d50b16d8-a8f4-4437-9590-d083cd6addef')\"\n",
              "              title=\"Convert this dataframe to an interactive table.\"\n",
              "              style=\"display:none;\">\n",
              "        \n",
              "  <svg xmlns=\"http://www.w3.org/2000/svg\" height=\"24px\"viewBox=\"0 0 24 24\"\n",
              "       width=\"24px\">\n",
              "    <path d=\"M0 0h24v24H0V0z\" fill=\"none\"/>\n",
              "    <path d=\"M18.56 5.44l.94 2.06.94-2.06 2.06-.94-2.06-.94-.94-2.06-.94 2.06-2.06.94zm-11 1L8.5 8.5l.94-2.06 2.06-.94-2.06-.94L8.5 2.5l-.94 2.06-2.06.94zm10 10l.94 2.06.94-2.06 2.06-.94-2.06-.94-.94-2.06-.94 2.06-2.06.94z\"/><path d=\"M17.41 7.96l-1.37-1.37c-.4-.4-.92-.59-1.43-.59-.52 0-1.04.2-1.43.59L10.3 9.45l-7.72 7.72c-.78.78-.78 2.05 0 2.83L4 21.41c.39.39.9.59 1.41.59.51 0 1.02-.2 1.41-.59l7.78-7.78 2.81-2.81c.8-.78.8-2.07 0-2.86zM5.41 20L4 18.59l7.72-7.72 1.47 1.35L5.41 20z\"/>\n",
              "  </svg>\n",
              "      </button>\n",
              "      \n",
              "  <style>\n",
              "    .colab-df-container {\n",
              "      display:flex;\n",
              "      flex-wrap:wrap;\n",
              "      gap: 12px;\n",
              "    }\n",
              "\n",
              "    .colab-df-convert {\n",
              "      background-color: #E8F0FE;\n",
              "      border: none;\n",
              "      border-radius: 50%;\n",
              "      cursor: pointer;\n",
              "      display: none;\n",
              "      fill: #1967D2;\n",
              "      height: 32px;\n",
              "      padding: 0 0 0 0;\n",
              "      width: 32px;\n",
              "    }\n",
              "\n",
              "    .colab-df-convert:hover {\n",
              "      background-color: #E2EBFA;\n",
              "      box-shadow: 0px 1px 2px rgba(60, 64, 67, 0.3), 0px 1px 3px 1px rgba(60, 64, 67, 0.15);\n",
              "      fill: #174EA6;\n",
              "    }\n",
              "\n",
              "    [theme=dark] .colab-df-convert {\n",
              "      background-color: #3B4455;\n",
              "      fill: #D2E3FC;\n",
              "    }\n",
              "\n",
              "    [theme=dark] .colab-df-convert:hover {\n",
              "      background-color: #434B5C;\n",
              "      box-shadow: 0px 1px 3px 1px rgba(0, 0, 0, 0.15);\n",
              "      filter: drop-shadow(0px 1px 2px rgba(0, 0, 0, 0.3));\n",
              "      fill: #FFFFFF;\n",
              "    }\n",
              "  </style>\n",
              "\n",
              "      <script>\n",
              "        const buttonEl =\n",
              "          document.querySelector('#df-d50b16d8-a8f4-4437-9590-d083cd6addef button.colab-df-convert');\n",
              "        buttonEl.style.display =\n",
              "          google.colab.kernel.accessAllowed ? 'block' : 'none';\n",
              "\n",
              "        async function convertToInteractive(key) {\n",
              "          const element = document.querySelector('#df-d50b16d8-a8f4-4437-9590-d083cd6addef');\n",
              "          const dataTable =\n",
              "            await google.colab.kernel.invokeFunction('convertToInteractive',\n",
              "                                                     [key], {});\n",
              "          if (!dataTable) return;\n",
              "\n",
              "          const docLinkHtml = 'Like what you see? Visit the ' +\n",
              "            '<a target=\"_blank\" href=https://colab.research.google.com/notebooks/data_table.ipynb>data table notebook</a>'\n",
              "            + ' to learn more about interactive tables.';\n",
              "          element.innerHTML = '';\n",
              "          dataTable['output_type'] = 'display_data';\n",
              "          await google.colab.output.renderOutput(dataTable, element);\n",
              "          const docLink = document.createElement('div');\n",
              "          docLink.innerHTML = docLinkHtml;\n",
              "          element.appendChild(docLink);\n",
              "        }\n",
              "      </script>\n",
              "    </div>\n",
              "  </div>\n",
              "  "
            ]
          },
          "metadata": {},
          "execution_count": 10
        }
      ],
      "source": [
        "df_1 = pd.merge(movies, ratings, how='inner', on='movieId')\n",
        "df_1.head()"
      ]
    },
    {
      "cell_type": "code",
      "execution_count": null,
      "id": "b17c6c85",
      "metadata": {
        "id": "b17c6c85",
        "outputId": "bd619d80-8fff-47e3-9c7c-f8a8a25865d4",
        "colab": {
          "base_uri": "https://localhost:8080/",
          "height": 250
        }
      },
      "outputs": [
        {
          "output_type": "execute_result",
          "data": {
            "text/plain": [
              "   movieId                               title  \\\n",
              "0        1                    Toy Story (1995)   \n",
              "1        3             Grumpier Old Men (1995)   \n",
              "2        5  Father of the Bride Part II (1995)   \n",
              "3       14                        Nixon (1995)   \n",
              "4       17        Sense and Sensibility (1995)   \n",
              "\n",
              "                                        genres  userId  rating  timestamp  \\\n",
              "0  Adventure|Animation|Children|Comedy|Fantasy       2     5.0  859046895   \n",
              "1                               Comedy|Romance       2     2.0  859046959   \n",
              "2                                       Comedy       2     3.0  859046959   \n",
              "3                                        Drama       2     4.0  859047091   \n",
              "4                                Drama|Romance       2     5.0  859046896   \n",
              "\n",
              "   age  time_spent_per_day  \n",
              "0   24            1.891303  \n",
              "1   24            1.891303  \n",
              "2   24            1.891303  \n",
              "3   24            1.891303  \n",
              "4   24            1.891303  "
            ],
            "text/html": [
              "\n",
              "  <div id=\"df-c6c617bb-edc4-4ebc-86d5-e45228255db7\">\n",
              "    <div class=\"colab-df-container\">\n",
              "      <div>\n",
              "<style scoped>\n",
              "    .dataframe tbody tr th:only-of-type {\n",
              "        vertical-align: middle;\n",
              "    }\n",
              "\n",
              "    .dataframe tbody tr th {\n",
              "        vertical-align: top;\n",
              "    }\n",
              "\n",
              "    .dataframe thead th {\n",
              "        text-align: right;\n",
              "    }\n",
              "</style>\n",
              "<table border=\"1\" class=\"dataframe\">\n",
              "  <thead>\n",
              "    <tr style=\"text-align: right;\">\n",
              "      <th></th>\n",
              "      <th>movieId</th>\n",
              "      <th>title</th>\n",
              "      <th>genres</th>\n",
              "      <th>userId</th>\n",
              "      <th>rating</th>\n",
              "      <th>timestamp</th>\n",
              "      <th>age</th>\n",
              "      <th>time_spent_per_day</th>\n",
              "    </tr>\n",
              "  </thead>\n",
              "  <tbody>\n",
              "    <tr>\n",
              "      <th>0</th>\n",
              "      <td>1</td>\n",
              "      <td>Toy Story (1995)</td>\n",
              "      <td>Adventure|Animation|Children|Comedy|Fantasy</td>\n",
              "      <td>2</td>\n",
              "      <td>5.0</td>\n",
              "      <td>859046895</td>\n",
              "      <td>24</td>\n",
              "      <td>1.891303</td>\n",
              "    </tr>\n",
              "    <tr>\n",
              "      <th>1</th>\n",
              "      <td>3</td>\n",
              "      <td>Grumpier Old Men (1995)</td>\n",
              "      <td>Comedy|Romance</td>\n",
              "      <td>2</td>\n",
              "      <td>2.0</td>\n",
              "      <td>859046959</td>\n",
              "      <td>24</td>\n",
              "      <td>1.891303</td>\n",
              "    </tr>\n",
              "    <tr>\n",
              "      <th>2</th>\n",
              "      <td>5</td>\n",
              "      <td>Father of the Bride Part II (1995)</td>\n",
              "      <td>Comedy</td>\n",
              "      <td>2</td>\n",
              "      <td>3.0</td>\n",
              "      <td>859046959</td>\n",
              "      <td>24</td>\n",
              "      <td>1.891303</td>\n",
              "    </tr>\n",
              "    <tr>\n",
              "      <th>3</th>\n",
              "      <td>14</td>\n",
              "      <td>Nixon (1995)</td>\n",
              "      <td>Drama</td>\n",
              "      <td>2</td>\n",
              "      <td>4.0</td>\n",
              "      <td>859047091</td>\n",
              "      <td>24</td>\n",
              "      <td>1.891303</td>\n",
              "    </tr>\n",
              "    <tr>\n",
              "      <th>4</th>\n",
              "      <td>17</td>\n",
              "      <td>Sense and Sensibility (1995)</td>\n",
              "      <td>Drama|Romance</td>\n",
              "      <td>2</td>\n",
              "      <td>5.0</td>\n",
              "      <td>859046896</td>\n",
              "      <td>24</td>\n",
              "      <td>1.891303</td>\n",
              "    </tr>\n",
              "  </tbody>\n",
              "</table>\n",
              "</div>\n",
              "      <button class=\"colab-df-convert\" onclick=\"convertToInteractive('df-c6c617bb-edc4-4ebc-86d5-e45228255db7')\"\n",
              "              title=\"Convert this dataframe to an interactive table.\"\n",
              "              style=\"display:none;\">\n",
              "        \n",
              "  <svg xmlns=\"http://www.w3.org/2000/svg\" height=\"24px\"viewBox=\"0 0 24 24\"\n",
              "       width=\"24px\">\n",
              "    <path d=\"M0 0h24v24H0V0z\" fill=\"none\"/>\n",
              "    <path d=\"M18.56 5.44l.94 2.06.94-2.06 2.06-.94-2.06-.94-.94-2.06-.94 2.06-2.06.94zm-11 1L8.5 8.5l.94-2.06 2.06-.94-2.06-.94L8.5 2.5l-.94 2.06-2.06.94zm10 10l.94 2.06.94-2.06 2.06-.94-2.06-.94-.94-2.06-.94 2.06-2.06.94z\"/><path d=\"M17.41 7.96l-1.37-1.37c-.4-.4-.92-.59-1.43-.59-.52 0-1.04.2-1.43.59L10.3 9.45l-7.72 7.72c-.78.78-.78 2.05 0 2.83L4 21.41c.39.39.9.59 1.41.59.51 0 1.02-.2 1.41-.59l7.78-7.78 2.81-2.81c.8-.78.8-2.07 0-2.86zM5.41 20L4 18.59l7.72-7.72 1.47 1.35L5.41 20z\"/>\n",
              "  </svg>\n",
              "      </button>\n",
              "      \n",
              "  <style>\n",
              "    .colab-df-container {\n",
              "      display:flex;\n",
              "      flex-wrap:wrap;\n",
              "      gap: 12px;\n",
              "    }\n",
              "\n",
              "    .colab-df-convert {\n",
              "      background-color: #E8F0FE;\n",
              "      border: none;\n",
              "      border-radius: 50%;\n",
              "      cursor: pointer;\n",
              "      display: none;\n",
              "      fill: #1967D2;\n",
              "      height: 32px;\n",
              "      padding: 0 0 0 0;\n",
              "      width: 32px;\n",
              "    }\n",
              "\n",
              "    .colab-df-convert:hover {\n",
              "      background-color: #E2EBFA;\n",
              "      box-shadow: 0px 1px 2px rgba(60, 64, 67, 0.3), 0px 1px 3px 1px rgba(60, 64, 67, 0.15);\n",
              "      fill: #174EA6;\n",
              "    }\n",
              "\n",
              "    [theme=dark] .colab-df-convert {\n",
              "      background-color: #3B4455;\n",
              "      fill: #D2E3FC;\n",
              "    }\n",
              "\n",
              "    [theme=dark] .colab-df-convert:hover {\n",
              "      background-color: #434B5C;\n",
              "      box-shadow: 0px 1px 3px 1px rgba(0, 0, 0, 0.15);\n",
              "      filter: drop-shadow(0px 1px 2px rgba(0, 0, 0, 0.3));\n",
              "      fill: #FFFFFF;\n",
              "    }\n",
              "  </style>\n",
              "\n",
              "      <script>\n",
              "        const buttonEl =\n",
              "          document.querySelector('#df-c6c617bb-edc4-4ebc-86d5-e45228255db7 button.colab-df-convert');\n",
              "        buttonEl.style.display =\n",
              "          google.colab.kernel.accessAllowed ? 'block' : 'none';\n",
              "\n",
              "        async function convertToInteractive(key) {\n",
              "          const element = document.querySelector('#df-c6c617bb-edc4-4ebc-86d5-e45228255db7');\n",
              "          const dataTable =\n",
              "            await google.colab.kernel.invokeFunction('convertToInteractive',\n",
              "                                                     [key], {});\n",
              "          if (!dataTable) return;\n",
              "\n",
              "          const docLinkHtml = 'Like what you see? Visit the ' +\n",
              "            '<a target=\"_blank\" href=https://colab.research.google.com/notebooks/data_table.ipynb>data table notebook</a>'\n",
              "            + ' to learn more about interactive tables.';\n",
              "          element.innerHTML = '';\n",
              "          dataTable['output_type'] = 'display_data';\n",
              "          await google.colab.output.renderOutput(dataTable, element);\n",
              "          const docLink = document.createElement('div');\n",
              "          docLink.innerHTML = docLinkHtml;\n",
              "          element.appendChild(docLink);\n",
              "        }\n",
              "      </script>\n",
              "    </div>\n",
              "  </div>\n",
              "  "
            ]
          },
          "metadata": {},
          "execution_count": 11
        }
      ],
      "source": [
        "df_2 = pd.merge(df_1, users, how='inner', on='userId')\n",
        "df_2.head()"
      ]
    },
    {
      "cell_type": "code",
      "execution_count": null,
      "id": "2709190c",
      "metadata": {
        "id": "2709190c",
        "outputId": "2ff70a62-108d-4415-de36-2d355d827a4d",
        "colab": {
          "base_uri": "https://localhost:8080/",
          "height": 206
        }
      },
      "outputs": [
        {
          "output_type": "execute_result",
          "data": {
            "text/plain": [
              "   userId  movieId  rating\n",
              "0       2        1     5.0\n",
              "1       2        3     2.0\n",
              "2       2        5     3.0\n",
              "3       2       14     4.0\n",
              "4       2       17     5.0"
            ],
            "text/html": [
              "\n",
              "  <div id=\"df-0b349622-eeaa-4299-a21f-8c2fe5c21076\">\n",
              "    <div class=\"colab-df-container\">\n",
              "      <div>\n",
              "<style scoped>\n",
              "    .dataframe tbody tr th:only-of-type {\n",
              "        vertical-align: middle;\n",
              "    }\n",
              "\n",
              "    .dataframe tbody tr th {\n",
              "        vertical-align: top;\n",
              "    }\n",
              "\n",
              "    .dataframe thead th {\n",
              "        text-align: right;\n",
              "    }\n",
              "</style>\n",
              "<table border=\"1\" class=\"dataframe\">\n",
              "  <thead>\n",
              "    <tr style=\"text-align: right;\">\n",
              "      <th></th>\n",
              "      <th>userId</th>\n",
              "      <th>movieId</th>\n",
              "      <th>rating</th>\n",
              "    </tr>\n",
              "  </thead>\n",
              "  <tbody>\n",
              "    <tr>\n",
              "      <th>0</th>\n",
              "      <td>2</td>\n",
              "      <td>1</td>\n",
              "      <td>5.0</td>\n",
              "    </tr>\n",
              "    <tr>\n",
              "      <th>1</th>\n",
              "      <td>2</td>\n",
              "      <td>3</td>\n",
              "      <td>2.0</td>\n",
              "    </tr>\n",
              "    <tr>\n",
              "      <th>2</th>\n",
              "      <td>2</td>\n",
              "      <td>5</td>\n",
              "      <td>3.0</td>\n",
              "    </tr>\n",
              "    <tr>\n",
              "      <th>3</th>\n",
              "      <td>2</td>\n",
              "      <td>14</td>\n",
              "      <td>4.0</td>\n",
              "    </tr>\n",
              "    <tr>\n",
              "      <th>4</th>\n",
              "      <td>2</td>\n",
              "      <td>17</td>\n",
              "      <td>5.0</td>\n",
              "    </tr>\n",
              "  </tbody>\n",
              "</table>\n",
              "</div>\n",
              "      <button class=\"colab-df-convert\" onclick=\"convertToInteractive('df-0b349622-eeaa-4299-a21f-8c2fe5c21076')\"\n",
              "              title=\"Convert this dataframe to an interactive table.\"\n",
              "              style=\"display:none;\">\n",
              "        \n",
              "  <svg xmlns=\"http://www.w3.org/2000/svg\" height=\"24px\"viewBox=\"0 0 24 24\"\n",
              "       width=\"24px\">\n",
              "    <path d=\"M0 0h24v24H0V0z\" fill=\"none\"/>\n",
              "    <path d=\"M18.56 5.44l.94 2.06.94-2.06 2.06-.94-2.06-.94-.94-2.06-.94 2.06-2.06.94zm-11 1L8.5 8.5l.94-2.06 2.06-.94-2.06-.94L8.5 2.5l-.94 2.06-2.06.94zm10 10l.94 2.06.94-2.06 2.06-.94-2.06-.94-.94-2.06-.94 2.06-2.06.94z\"/><path d=\"M17.41 7.96l-1.37-1.37c-.4-.4-.92-.59-1.43-.59-.52 0-1.04.2-1.43.59L10.3 9.45l-7.72 7.72c-.78.78-.78 2.05 0 2.83L4 21.41c.39.39.9.59 1.41.59.51 0 1.02-.2 1.41-.59l7.78-7.78 2.81-2.81c.8-.78.8-2.07 0-2.86zM5.41 20L4 18.59l7.72-7.72 1.47 1.35L5.41 20z\"/>\n",
              "  </svg>\n",
              "      </button>\n",
              "      \n",
              "  <style>\n",
              "    .colab-df-container {\n",
              "      display:flex;\n",
              "      flex-wrap:wrap;\n",
              "      gap: 12px;\n",
              "    }\n",
              "\n",
              "    .colab-df-convert {\n",
              "      background-color: #E8F0FE;\n",
              "      border: none;\n",
              "      border-radius: 50%;\n",
              "      cursor: pointer;\n",
              "      display: none;\n",
              "      fill: #1967D2;\n",
              "      height: 32px;\n",
              "      padding: 0 0 0 0;\n",
              "      width: 32px;\n",
              "    }\n",
              "\n",
              "    .colab-df-convert:hover {\n",
              "      background-color: #E2EBFA;\n",
              "      box-shadow: 0px 1px 2px rgba(60, 64, 67, 0.3), 0px 1px 3px 1px rgba(60, 64, 67, 0.15);\n",
              "      fill: #174EA6;\n",
              "    }\n",
              "\n",
              "    [theme=dark] .colab-df-convert {\n",
              "      background-color: #3B4455;\n",
              "      fill: #D2E3FC;\n",
              "    }\n",
              "\n",
              "    [theme=dark] .colab-df-convert:hover {\n",
              "      background-color: #434B5C;\n",
              "      box-shadow: 0px 1px 3px 1px rgba(0, 0, 0, 0.15);\n",
              "      filter: drop-shadow(0px 1px 2px rgba(0, 0, 0, 0.3));\n",
              "      fill: #FFFFFF;\n",
              "    }\n",
              "  </style>\n",
              "\n",
              "      <script>\n",
              "        const buttonEl =\n",
              "          document.querySelector('#df-0b349622-eeaa-4299-a21f-8c2fe5c21076 button.colab-df-convert');\n",
              "        buttonEl.style.display =\n",
              "          google.colab.kernel.accessAllowed ? 'block' : 'none';\n",
              "\n",
              "        async function convertToInteractive(key) {\n",
              "          const element = document.querySelector('#df-0b349622-eeaa-4299-a21f-8c2fe5c21076');\n",
              "          const dataTable =\n",
              "            await google.colab.kernel.invokeFunction('convertToInteractive',\n",
              "                                                     [key], {});\n",
              "          if (!dataTable) return;\n",
              "\n",
              "          const docLinkHtml = 'Like what you see? Visit the ' +\n",
              "            '<a target=\"_blank\" href=https://colab.research.google.com/notebooks/data_table.ipynb>data table notebook</a>'\n",
              "            + ' to learn more about interactive tables.';\n",
              "          element.innerHTML = '';\n",
              "          dataTable['output_type'] = 'display_data';\n",
              "          await google.colab.output.renderOutput(dataTable, element);\n",
              "          const docLink = document.createElement('div');\n",
              "          docLink.innerHTML = docLinkHtml;\n",
              "          element.appendChild(docLink);\n",
              "        }\n",
              "      </script>\n",
              "    </div>\n",
              "  </div>\n",
              "  "
            ]
          },
          "metadata": {},
          "execution_count": 12
        }
      ],
      "source": [
        "data = df_2[['userId','movieId','rating']] #Considering only the userid, itemid and ratings\n",
        "data.head()"
      ]
    },
    {
      "cell_type": "code",
      "execution_count": null,
      "id": "ab640ab7",
      "metadata": {
        "id": "ab640ab7",
        "outputId": "a46a9059-c50d-4c28-a777-ac12b3938525",
        "colab": {
          "base_uri": "https://localhost:8080/"
        }
      },
      "outputs": [
        {
          "output_type": "execute_result",
          "data": {
            "text/plain": [
              "userId     0\n",
              "movieId    0\n",
              "rating     0\n",
              "dtype: int64"
            ]
          },
          "metadata": {},
          "execution_count": 13
        }
      ],
      "source": [
        "data.isna().sum() #Checking for null values and no null values are present in the data"
      ]
    },
    {
      "cell_type": "code",
      "execution_count": null,
      "id": "8bb70f71",
      "metadata": {
        "id": "8bb70f71",
        "outputId": "5927c3ec-67ba-4475-d228-9e79d66f897f",
        "colab": {
          "base_uri": "https://localhost:8080/"
        }
      },
      "outputs": [
        {
          "output_type": "execute_result",
          "data": {
            "text/plain": [
              "0"
            ]
          },
          "metadata": {},
          "execution_count": 14
        }
      ],
      "source": [
        "data.duplicated().sum() #Checking for the duplicates and no duplicate values present in the data"
      ]
    },
    {
      "cell_type": "code",
      "source": [
        "#pip install scikit-surprise"
      ],
      "metadata": {
        "id": "58kzLQ_jcq6x"
      },
      "id": "58kzLQ_jcq6x",
      "execution_count": null,
      "outputs": []
    },
    {
      "cell_type": "code",
      "execution_count": null,
      "id": "dbcc5478",
      "metadata": {
        "id": "dbcc5478"
      },
      "outputs": [],
      "source": [
        "## Loading the necessary packages from suprise library"
      ]
    },
    {
      "cell_type": "code",
      "execution_count": null,
      "id": "50a76962",
      "metadata": {
        "id": "50a76962"
      },
      "outputs": [],
      "source": [
        "from surprise import KNNWithMeans \n",
        "from surprise import Dataset\n",
        "from surprise import accuracy\n",
        "from surprise.model_selection import train_test_split\n",
        "from surprise import Reader"
      ]
    },
    {
      "cell_type": "code",
      "execution_count": null,
      "id": "4e2bfa32",
      "metadata": {
        "id": "4e2bfa32"
      },
      "outputs": [],
      "source": [
        "## The Reader class is used to parse a file containing ratings.It orders the data in format of (userid,title,rating) and even by considering the rating scale\n",
        "reader = Reader(rating_scale=(0.5 , 5))\n",
        "# The columns must correspond to user id, item id and ratings (in that order).\n",
        "data = Dataset.load_from_df(data[['userId','movieId','rating']], reader) # loading the data as per the format"
      ]
    },
    {
      "cell_type": "code",
      "source": [
        "anti_set = data.build_full_trainset().build_anti_testset()"
      ],
      "metadata": {
        "id": "vZs21OXcjNmd"
      },
      "id": "vZs21OXcjNmd",
      "execution_count": null,
      "outputs": []
    },
    {
      "cell_type": "markdown",
      "source": [
        "An antiset is a set of those user and item pairs for which a rating doesn't exist in original dataset. This is the set for which we are trying to predict ratings. \n",
        "\n",
        "For example in following example userId 2 has not rated movieID 1 that is Toy Story. \n",
        "\n",
        "Surprise creates a set of such combinations by providing a default average rating. We'll be calculating an estimated rating for this set using our model."
      ],
      "metadata": {
        "id": "Hs0FXoqWjcKT"
      },
      "id": "Hs0FXoqWjcKT"
    },
    {
      "cell_type": "code",
      "execution_count": null,
      "id": "815f1dd2",
      "metadata": {
        "id": "815f1dd2"
      },
      "outputs": [],
      "source": [
        "trainset, testset = train_test_split(data, test_size=.15) # Splitting the data"
      ]
    },
    {
      "cell_type": "markdown",
      "id": "4c9d3ab1",
      "metadata": {
        "id": "4c9d3ab1"
      },
      "source": [
        "### User - based collaborative filtering"
      ]
    },
    {
      "cell_type": "markdown",
      "source": [
        "#### Use user_based true/false to switch between user-based or item-based collaborative filtering\n",
        "#### Using cosine similarity\n",
        "\n",
        "#### ```KNNWithMeans``` is basic collaborative filtering algorithm, taking into account the mean ratings of each user."
      ],
      "metadata": {
        "id": "DS219-b3dWOE"
      },
      "id": "DS219-b3dWOE"
    },
    {
      "cell_type": "code",
      "execution_count": null,
      "id": "c9eaaf82",
      "metadata": {
        "id": "c9eaaf82",
        "outputId": "ee2cfa78-b863-4e95-8e58-a7ebec34a120",
        "colab": {
          "base_uri": "https://localhost:8080/"
        }
      },
      "outputs": [
        {
          "output_type": "stream",
          "name": "stdout",
          "text": [
            "Computing the cosine similarity matrix...\n",
            "Done computing similarity matrix.\n"
          ]
        },
        {
          "output_type": "execute_result",
          "data": {
            "text/plain": [
              "<surprise.prediction_algorithms.knns.KNNWithMeans at 0x7f1f4987d910>"
            ]
          },
          "metadata": {},
          "execution_count": 21
        }
      ],
      "source": [
        "algo = KNNWithMeans(k = 50, sim_options={'name': 'cosine', 'user_based': True}) \n",
        "\n",
        "# K value represents the (max) number of neighbors to take into account for aggregation. Example for every item it gives 50 nearest ones.\n",
        "# There are many similarity options to calculate the similarity between the neighbors. Here, we have used the cosine similarity.\n",
        "# when user_based = True then it performs user based collaborative filtering\n",
        "\n",
        "algo.fit(trainset) #fitting the train dataset"
      ]
    },
    {
      "cell_type": "code",
      "execution_count": null,
      "id": "44d9a92c",
      "metadata": {
        "id": "44d9a92c"
      },
      "outputs": [],
      "source": [
        "# run the trained model against the testset\n",
        "test_pred = algo.test(testset)"
      ]
    },
    {
      "cell_type": "code",
      "execution_count": null,
      "id": "5aba74c3",
      "metadata": {
        "id": "5aba74c3",
        "colab": {
          "base_uri": "https://localhost:8080/"
        },
        "outputId": "66d44db4-6ca4-4f03-baab-d95045e178de"
      },
      "outputs": [
        {
          "output_type": "execute_result",
          "data": {
            "text/plain": [
              "Prediction(uid=308, iid=7438, r_ui=4.0, est=3.9420970637417803, details={'actual_k': 50, 'was_impossible': False})"
            ]
          },
          "metadata": {},
          "execution_count": 23
        }
      ],
      "source": [
        "test_pred[0]"
      ]
    },
    {
      "cell_type": "markdown",
      "source": [
        "uid – The (raw) user id. \n",
        "\n",
        "iid – The (raw) item id. \n",
        "\n",
        "r_ui (float) – The true rating .\n",
        "\n",
        "est (float) – The estimated rating. This is calculated by taking mean ratings of each item for item-based collab filtering.\n",
        "\n",
        "details (dict) – Stores additional details about the prediction.\n",
        "\n",
        "In this details was_impossible defines status of the true rating \n",
        "-  if was_impossible: False - Then there is some true rating.\n",
        "-  else if was_impossible: True - Then there is no information on true rating for that particular record."
      ],
      "metadata": {
        "id": "jsG4vNV8h1n7"
      },
      "id": "jsG4vNV8h1n7"
    },
    {
      "cell_type": "code",
      "execution_count": null,
      "id": "3a245549",
      "metadata": {
        "id": "3a245549",
        "outputId": "91485331-a472-40bc-8b4a-617d7ff28609",
        "colab": {
          "base_uri": "https://localhost:8080/"
        }
      },
      "outputs": [
        {
          "output_type": "stream",
          "name": "stdout",
          "text": [
            "User-based Model : Test Set\n",
            "RMSE: 0.8896\n"
          ]
        },
        {
          "output_type": "execute_result",
          "data": {
            "text/plain": [
              "0.8895620551576681"
            ]
          },
          "metadata": {},
          "execution_count": 24
        }
      ],
      "source": [
        "# get RMSE on test set\n",
        "print(\"User-based Model : Test Set\")\n",
        "accuracy.rmse(test_pred, verbose=True)"
      ]
    },
    {
      "cell_type": "code",
      "execution_count": null,
      "id": "42b7c46c",
      "metadata": {
        "id": "42b7c46c"
      },
      "outputs": [],
      "source": [
        "# we can query for specific predicions\n",
        "uid = str(196)  # raw user id\n",
        "iid = str(302)  # raw item id"
      ]
    },
    {
      "cell_type": "code",
      "execution_count": null,
      "id": "76d83a6d",
      "metadata": {
        "id": "76d83a6d",
        "outputId": "f00b3a2a-a896-42ec-d657-c0391d6f16a4",
        "colab": {
          "base_uri": "https://localhost:8080/"
        }
      },
      "outputs": [
        {
          "output_type": "stream",
          "name": "stdout",
          "text": [
            "user: 196        item: 302        r_ui = None   est = 3.52   {'was_impossible': True, 'reason': 'User and/or item is unknown.'}\n"
          ]
        }
      ],
      "source": [
        "# get a prediction for specific users and items.\n",
        "pred = algo.predict(uid, iid, verbose=True)"
      ]
    },
    {
      "cell_type": "markdown",
      "source": [
        "For this user ```196``` for movie ```302``` the true rating is None where as the estimated rating is ```3.52```"
      ],
      "metadata": {
        "id": "KSCsLrKCrMYI"
      },
      "id": "KSCsLrKCrMYI"
    },
    {
      "cell_type": "code",
      "source": [
        "anti_pre = algo.test(anti_set)\n",
        "pred_df = pd.DataFrame(anti_pre).merge(movies , left_on = ['iid'], right_on = ['movieId'])\n",
        "pred_df = pd.DataFrame(pred_df).merge(users , left_on = ['uid'], right_on = ['userId'])"
      ],
      "metadata": {
        "id": "xA8Ihhp8kZlA"
      },
      "id": "xA8Ihhp8kZlA",
      "execution_count": null,
      "outputs": []
    },
    {
      "cell_type": "code",
      "source": [
        "pred_df.head()"
      ],
      "metadata": {
        "colab": {
          "base_uri": "https://localhost:8080/",
          "height": 424
        },
        "id": "QF-ZVwxhkwce",
        "outputId": "df727eef-5371-4eb2-d67f-e8fa45e71db9"
      },
      "id": "QF-ZVwxhkwce",
      "execution_count": null,
      "outputs": [
        {
          "output_type": "execute_result",
          "data": {
            "text/plain": [
              "   uid  iid     r_ui       est                                    details  \\\n",
              "0    2   63  3.51685  3.284361  {'actual_k': 16, 'was_impossible': False}   \n",
              "1    2  110  3.51685  4.112406  {'actual_k': 50, 'was_impossible': False}   \n",
              "2    2  170  3.51685  3.329485  {'actual_k': 29, 'was_impossible': False}   \n",
              "3    2  175  3.51685  3.699870  {'actual_k': 23, 'was_impossible': False}   \n",
              "4    2  231  3.51685  3.394821  {'actual_k': 50, 'was_impossible': False}   \n",
              "\n",
              "   movieId                                              title  \\\n",
              "0       63  Don't Be a Menace to South Central While Drink...   \n",
              "1      110                                  Braveheart (1995)   \n",
              "2      170                                     Hackers (1995)   \n",
              "3      175                                        Kids (1995)   \n",
              "4      231             Dumb & Dumber (Dumb and Dumber) (1994)   \n",
              "\n",
              "                            genres  userId  age  time_spent_per_day  \n",
              "0                     Comedy|Crime       2   24            1.891303  \n",
              "1                 Action|Drama|War       2   24            1.891303  \n",
              "2  Action|Adventure|Crime|Thriller       2   24            1.891303  \n",
              "3                            Drama       2   24            1.891303  \n",
              "4                 Adventure|Comedy       2   24            1.891303  "
            ],
            "text/html": [
              "\n",
              "  <div id=\"df-887195ab-51ef-4bd0-a114-3a83f3544871\">\n",
              "    <div class=\"colab-df-container\">\n",
              "      <div>\n",
              "<style scoped>\n",
              "    .dataframe tbody tr th:only-of-type {\n",
              "        vertical-align: middle;\n",
              "    }\n",
              "\n",
              "    .dataframe tbody tr th {\n",
              "        vertical-align: top;\n",
              "    }\n",
              "\n",
              "    .dataframe thead th {\n",
              "        text-align: right;\n",
              "    }\n",
              "</style>\n",
              "<table border=\"1\" class=\"dataframe\">\n",
              "  <thead>\n",
              "    <tr style=\"text-align: right;\">\n",
              "      <th></th>\n",
              "      <th>uid</th>\n",
              "      <th>iid</th>\n",
              "      <th>r_ui</th>\n",
              "      <th>est</th>\n",
              "      <th>details</th>\n",
              "      <th>movieId</th>\n",
              "      <th>title</th>\n",
              "      <th>genres</th>\n",
              "      <th>userId</th>\n",
              "      <th>age</th>\n",
              "      <th>time_spent_per_day</th>\n",
              "    </tr>\n",
              "  </thead>\n",
              "  <tbody>\n",
              "    <tr>\n",
              "      <th>0</th>\n",
              "      <td>2</td>\n",
              "      <td>63</td>\n",
              "      <td>3.51685</td>\n",
              "      <td>3.284361</td>\n",
              "      <td>{'actual_k': 16, 'was_impossible': False}</td>\n",
              "      <td>63</td>\n",
              "      <td>Don't Be a Menace to South Central While Drink...</td>\n",
              "      <td>Comedy|Crime</td>\n",
              "      <td>2</td>\n",
              "      <td>24</td>\n",
              "      <td>1.891303</td>\n",
              "    </tr>\n",
              "    <tr>\n",
              "      <th>1</th>\n",
              "      <td>2</td>\n",
              "      <td>110</td>\n",
              "      <td>3.51685</td>\n",
              "      <td>4.112406</td>\n",
              "      <td>{'actual_k': 50, 'was_impossible': False}</td>\n",
              "      <td>110</td>\n",
              "      <td>Braveheart (1995)</td>\n",
              "      <td>Action|Drama|War</td>\n",
              "      <td>2</td>\n",
              "      <td>24</td>\n",
              "      <td>1.891303</td>\n",
              "    </tr>\n",
              "    <tr>\n",
              "      <th>2</th>\n",
              "      <td>2</td>\n",
              "      <td>170</td>\n",
              "      <td>3.51685</td>\n",
              "      <td>3.329485</td>\n",
              "      <td>{'actual_k': 29, 'was_impossible': False}</td>\n",
              "      <td>170</td>\n",
              "      <td>Hackers (1995)</td>\n",
              "      <td>Action|Adventure|Crime|Thriller</td>\n",
              "      <td>2</td>\n",
              "      <td>24</td>\n",
              "      <td>1.891303</td>\n",
              "    </tr>\n",
              "    <tr>\n",
              "      <th>3</th>\n",
              "      <td>2</td>\n",
              "      <td>175</td>\n",
              "      <td>3.51685</td>\n",
              "      <td>3.699870</td>\n",
              "      <td>{'actual_k': 23, 'was_impossible': False}</td>\n",
              "      <td>175</td>\n",
              "      <td>Kids (1995)</td>\n",
              "      <td>Drama</td>\n",
              "      <td>2</td>\n",
              "      <td>24</td>\n",
              "      <td>1.891303</td>\n",
              "    </tr>\n",
              "    <tr>\n",
              "      <th>4</th>\n",
              "      <td>2</td>\n",
              "      <td>231</td>\n",
              "      <td>3.51685</td>\n",
              "      <td>3.394821</td>\n",
              "      <td>{'actual_k': 50, 'was_impossible': False}</td>\n",
              "      <td>231</td>\n",
              "      <td>Dumb &amp; Dumber (Dumb and Dumber) (1994)</td>\n",
              "      <td>Adventure|Comedy</td>\n",
              "      <td>2</td>\n",
              "      <td>24</td>\n",
              "      <td>1.891303</td>\n",
              "    </tr>\n",
              "  </tbody>\n",
              "</table>\n",
              "</div>\n",
              "      <button class=\"colab-df-convert\" onclick=\"convertToInteractive('df-887195ab-51ef-4bd0-a114-3a83f3544871')\"\n",
              "              title=\"Convert this dataframe to an interactive table.\"\n",
              "              style=\"display:none;\">\n",
              "        \n",
              "  <svg xmlns=\"http://www.w3.org/2000/svg\" height=\"24px\"viewBox=\"0 0 24 24\"\n",
              "       width=\"24px\">\n",
              "    <path d=\"M0 0h24v24H0V0z\" fill=\"none\"/>\n",
              "    <path d=\"M18.56 5.44l.94 2.06.94-2.06 2.06-.94-2.06-.94-.94-2.06-.94 2.06-2.06.94zm-11 1L8.5 8.5l.94-2.06 2.06-.94-2.06-.94L8.5 2.5l-.94 2.06-2.06.94zm10 10l.94 2.06.94-2.06 2.06-.94-2.06-.94-.94-2.06-.94 2.06-2.06.94z\"/><path d=\"M17.41 7.96l-1.37-1.37c-.4-.4-.92-.59-1.43-.59-.52 0-1.04.2-1.43.59L10.3 9.45l-7.72 7.72c-.78.78-.78 2.05 0 2.83L4 21.41c.39.39.9.59 1.41.59.51 0 1.02-.2 1.41-.59l7.78-7.78 2.81-2.81c.8-.78.8-2.07 0-2.86zM5.41 20L4 18.59l7.72-7.72 1.47 1.35L5.41 20z\"/>\n",
              "  </svg>\n",
              "      </button>\n",
              "      \n",
              "  <style>\n",
              "    .colab-df-container {\n",
              "      display:flex;\n",
              "      flex-wrap:wrap;\n",
              "      gap: 12px;\n",
              "    }\n",
              "\n",
              "    .colab-df-convert {\n",
              "      background-color: #E8F0FE;\n",
              "      border: none;\n",
              "      border-radius: 50%;\n",
              "      cursor: pointer;\n",
              "      display: none;\n",
              "      fill: #1967D2;\n",
              "      height: 32px;\n",
              "      padding: 0 0 0 0;\n",
              "      width: 32px;\n",
              "    }\n",
              "\n",
              "    .colab-df-convert:hover {\n",
              "      background-color: #E2EBFA;\n",
              "      box-shadow: 0px 1px 2px rgba(60, 64, 67, 0.3), 0px 1px 3px 1px rgba(60, 64, 67, 0.15);\n",
              "      fill: #174EA6;\n",
              "    }\n",
              "\n",
              "    [theme=dark] .colab-df-convert {\n",
              "      background-color: #3B4455;\n",
              "      fill: #D2E3FC;\n",
              "    }\n",
              "\n",
              "    [theme=dark] .colab-df-convert:hover {\n",
              "      background-color: #434B5C;\n",
              "      box-shadow: 0px 1px 3px 1px rgba(0, 0, 0, 0.15);\n",
              "      filter: drop-shadow(0px 1px 2px rgba(0, 0, 0, 0.3));\n",
              "      fill: #FFFFFF;\n",
              "    }\n",
              "  </style>\n",
              "\n",
              "      <script>\n",
              "        const buttonEl =\n",
              "          document.querySelector('#df-887195ab-51ef-4bd0-a114-3a83f3544871 button.colab-df-convert');\n",
              "        buttonEl.style.display =\n",
              "          google.colab.kernel.accessAllowed ? 'block' : 'none';\n",
              "\n",
              "        async function convertToInteractive(key) {\n",
              "          const element = document.querySelector('#df-887195ab-51ef-4bd0-a114-3a83f3544871');\n",
              "          const dataTable =\n",
              "            await google.colab.kernel.invokeFunction('convertToInteractive',\n",
              "                                                     [key], {});\n",
              "          if (!dataTable) return;\n",
              "\n",
              "          const docLinkHtml = 'Like what you see? Visit the ' +\n",
              "            '<a target=\"_blank\" href=https://colab.research.google.com/notebooks/data_table.ipynb>data table notebook</a>'\n",
              "            + ' to learn more about interactive tables.';\n",
              "          element.innerHTML = '';\n",
              "          dataTable['output_type'] = 'display_data';\n",
              "          await google.colab.output.renderOutput(dataTable, element);\n",
              "          const docLink = document.createElement('div');\n",
              "          docLink.innerHTML = docLinkHtml;\n",
              "          element.appendChild(docLink);\n",
              "        }\n",
              "      </script>\n",
              "    </div>\n",
              "  </div>\n",
              "  "
            ]
          },
          "metadata": {},
          "execution_count": 28
        }
      ]
    },
    {
      "cell_type": "markdown",
      "source": [
        "We can also recommend a movie to the users if the estimated rating is 5.0 using the above pred_df.\n",
        "\n",
        "For example, we can recommend for user ```200```"
      ],
      "metadata": {
        "id": "4ITIdTMVruLK"
      },
      "id": "4ITIdTMVruLK"
    },
    {
      "cell_type": "code",
      "source": [
        "pred_df[(pred_df['est']== 5.0)&(pred_df['userId']== 200)]"
      ],
      "metadata": {
        "colab": {
          "base_uri": "https://localhost:8080/",
          "height": 886
        },
        "id": "dXbz6UjakwOH",
        "outputId": "4d73952a-7ce7-4bba-fa5e-e4cdad88d417"
      },
      "id": "dXbz6UjakwOH",
      "execution_count": null,
      "outputs": [
        {
          "output_type": "execute_result",
          "data": {
            "text/plain": [
              "         uid     iid     r_ui  est                                   details  \\\n",
              "6173681  200   49817  3.51685  5.0  {'actual_k': 1, 'was_impossible': False}   \n",
              "6175135  200     418  3.51685  5.0  {'actual_k': 1, 'was_impossible': False}   \n",
              "6175138  200     649  3.51685  5.0  {'actual_k': 1, 'was_impossible': False}   \n",
              "6179115  200   52767  3.51685  5.0  {'actual_k': 1, 'was_impossible': False}   \n",
              "6179505  200    1546  3.51685  5.0  {'actual_k': 1, 'was_impossible': False}   \n",
              "6179799  200    5304  3.51685  5.0  {'actual_k': 1, 'was_impossible': False}   \n",
              "6180221  200   25961  3.51685  5.0  {'actual_k': 1, 'was_impossible': False}   \n",
              "6180952  200   80969  3.51685  5.0  {'actual_k': 1, 'was_impossible': False}   \n",
              "6181261  200  101862  3.51685  5.0  {'actual_k': 1, 'was_impossible': False}   \n",
              "6181389  200  116136  3.51685  5.0  {'actual_k': 1, 'was_impossible': False}   \n",
              "6182225  200  102378  3.51685  5.0  {'actual_k': 1, 'was_impossible': False}   \n",
              "6182231  200  111387  3.51685  5.0  {'actual_k': 1, 'was_impossible': False}   \n",
              "\n",
              "         movieId                                              title  \\\n",
              "6173681    49817                            Plague Dogs, The (1982)   \n",
              "6175135      418                                 Being Human (1993)   \n",
              "6175138      649                 Cold Fever (Á köldum klaka) (1995)   \n",
              "6179115    52767                                       21 Up (1977)   \n",
              "6179505     1546                                 Schizopolis (1996)   \n",
              "6179799     5304  Rome, Open City (a.k.a. Open City) (Roma, citt...   \n",
              "6180221    25961                             Gunfighter, The (1950)   \n",
              "6180952    80969                             Never Let Me Go (2010)   \n",
              "6181261   101862  50 Children: The Rescue Mission of Mr. And Mrs...   \n",
              "6181389   116136                            Olive Kitteridge (2014)   \n",
              "6182225   102378                                       Syrup (2013)   \n",
              "6182231   111387                                   Palo Alto (2013)   \n",
              "\n",
              "                            genres  userId  age  time_spent_per_day  \n",
              "6173681  Adventure|Animation|Drama     200   13            1.961149  \n",
              "6175135                      Drama     200   13            1.961149  \n",
              "6175138               Comedy|Drama     200   13            1.961149  \n",
              "6179115                Documentary     200   13            1.961149  \n",
              "6179505                     Comedy     200   13            1.961149  \n",
              "6179799                  Drama|War     200   13            1.961149  \n",
              "6180221             Action|Western     200   13            1.961149  \n",
              "6180952       Drama|Romance|Sci-Fi     200   13            1.961149  \n",
              "6181261                Documentary     200   13            1.961149  \n",
              "6181389                      Drama     200   13            1.961149  \n",
              "6182225               Comedy|Drama     200   13            1.961149  \n",
              "6182231                      Drama     200   13            1.961149  "
            ],
            "text/html": [
              "\n",
              "  <div id=\"df-85c33886-6a77-4dee-a7c6-4e9c001800dd\">\n",
              "    <div class=\"colab-df-container\">\n",
              "      <div>\n",
              "<style scoped>\n",
              "    .dataframe tbody tr th:only-of-type {\n",
              "        vertical-align: middle;\n",
              "    }\n",
              "\n",
              "    .dataframe tbody tr th {\n",
              "        vertical-align: top;\n",
              "    }\n",
              "\n",
              "    .dataframe thead th {\n",
              "        text-align: right;\n",
              "    }\n",
              "</style>\n",
              "<table border=\"1\" class=\"dataframe\">\n",
              "  <thead>\n",
              "    <tr style=\"text-align: right;\">\n",
              "      <th></th>\n",
              "      <th>uid</th>\n",
              "      <th>iid</th>\n",
              "      <th>r_ui</th>\n",
              "      <th>est</th>\n",
              "      <th>details</th>\n",
              "      <th>movieId</th>\n",
              "      <th>title</th>\n",
              "      <th>genres</th>\n",
              "      <th>userId</th>\n",
              "      <th>age</th>\n",
              "      <th>time_spent_per_day</th>\n",
              "    </tr>\n",
              "  </thead>\n",
              "  <tbody>\n",
              "    <tr>\n",
              "      <th>6173681</th>\n",
              "      <td>200</td>\n",
              "      <td>49817</td>\n",
              "      <td>3.51685</td>\n",
              "      <td>5.0</td>\n",
              "      <td>{'actual_k': 1, 'was_impossible': False}</td>\n",
              "      <td>49817</td>\n",
              "      <td>Plague Dogs, The (1982)</td>\n",
              "      <td>Adventure|Animation|Drama</td>\n",
              "      <td>200</td>\n",
              "      <td>13</td>\n",
              "      <td>1.961149</td>\n",
              "    </tr>\n",
              "    <tr>\n",
              "      <th>6175135</th>\n",
              "      <td>200</td>\n",
              "      <td>418</td>\n",
              "      <td>3.51685</td>\n",
              "      <td>5.0</td>\n",
              "      <td>{'actual_k': 1, 'was_impossible': False}</td>\n",
              "      <td>418</td>\n",
              "      <td>Being Human (1993)</td>\n",
              "      <td>Drama</td>\n",
              "      <td>200</td>\n",
              "      <td>13</td>\n",
              "      <td>1.961149</td>\n",
              "    </tr>\n",
              "    <tr>\n",
              "      <th>6175138</th>\n",
              "      <td>200</td>\n",
              "      <td>649</td>\n",
              "      <td>3.51685</td>\n",
              "      <td>5.0</td>\n",
              "      <td>{'actual_k': 1, 'was_impossible': False}</td>\n",
              "      <td>649</td>\n",
              "      <td>Cold Fever (Á köldum klaka) (1995)</td>\n",
              "      <td>Comedy|Drama</td>\n",
              "      <td>200</td>\n",
              "      <td>13</td>\n",
              "      <td>1.961149</td>\n",
              "    </tr>\n",
              "    <tr>\n",
              "      <th>6179115</th>\n",
              "      <td>200</td>\n",
              "      <td>52767</td>\n",
              "      <td>3.51685</td>\n",
              "      <td>5.0</td>\n",
              "      <td>{'actual_k': 1, 'was_impossible': False}</td>\n",
              "      <td>52767</td>\n",
              "      <td>21 Up (1977)</td>\n",
              "      <td>Documentary</td>\n",
              "      <td>200</td>\n",
              "      <td>13</td>\n",
              "      <td>1.961149</td>\n",
              "    </tr>\n",
              "    <tr>\n",
              "      <th>6179505</th>\n",
              "      <td>200</td>\n",
              "      <td>1546</td>\n",
              "      <td>3.51685</td>\n",
              "      <td>5.0</td>\n",
              "      <td>{'actual_k': 1, 'was_impossible': False}</td>\n",
              "      <td>1546</td>\n",
              "      <td>Schizopolis (1996)</td>\n",
              "      <td>Comedy</td>\n",
              "      <td>200</td>\n",
              "      <td>13</td>\n",
              "      <td>1.961149</td>\n",
              "    </tr>\n",
              "    <tr>\n",
              "      <th>6179799</th>\n",
              "      <td>200</td>\n",
              "      <td>5304</td>\n",
              "      <td>3.51685</td>\n",
              "      <td>5.0</td>\n",
              "      <td>{'actual_k': 1, 'was_impossible': False}</td>\n",
              "      <td>5304</td>\n",
              "      <td>Rome, Open City (a.k.a. Open City) (Roma, citt...</td>\n",
              "      <td>Drama|War</td>\n",
              "      <td>200</td>\n",
              "      <td>13</td>\n",
              "      <td>1.961149</td>\n",
              "    </tr>\n",
              "    <tr>\n",
              "      <th>6180221</th>\n",
              "      <td>200</td>\n",
              "      <td>25961</td>\n",
              "      <td>3.51685</td>\n",
              "      <td>5.0</td>\n",
              "      <td>{'actual_k': 1, 'was_impossible': False}</td>\n",
              "      <td>25961</td>\n",
              "      <td>Gunfighter, The (1950)</td>\n",
              "      <td>Action|Western</td>\n",
              "      <td>200</td>\n",
              "      <td>13</td>\n",
              "      <td>1.961149</td>\n",
              "    </tr>\n",
              "    <tr>\n",
              "      <th>6180952</th>\n",
              "      <td>200</td>\n",
              "      <td>80969</td>\n",
              "      <td>3.51685</td>\n",
              "      <td>5.0</td>\n",
              "      <td>{'actual_k': 1, 'was_impossible': False}</td>\n",
              "      <td>80969</td>\n",
              "      <td>Never Let Me Go (2010)</td>\n",
              "      <td>Drama|Romance|Sci-Fi</td>\n",
              "      <td>200</td>\n",
              "      <td>13</td>\n",
              "      <td>1.961149</td>\n",
              "    </tr>\n",
              "    <tr>\n",
              "      <th>6181261</th>\n",
              "      <td>200</td>\n",
              "      <td>101862</td>\n",
              "      <td>3.51685</td>\n",
              "      <td>5.0</td>\n",
              "      <td>{'actual_k': 1, 'was_impossible': False}</td>\n",
              "      <td>101862</td>\n",
              "      <td>50 Children: The Rescue Mission of Mr. And Mrs...</td>\n",
              "      <td>Documentary</td>\n",
              "      <td>200</td>\n",
              "      <td>13</td>\n",
              "      <td>1.961149</td>\n",
              "    </tr>\n",
              "    <tr>\n",
              "      <th>6181389</th>\n",
              "      <td>200</td>\n",
              "      <td>116136</td>\n",
              "      <td>3.51685</td>\n",
              "      <td>5.0</td>\n",
              "      <td>{'actual_k': 1, 'was_impossible': False}</td>\n",
              "      <td>116136</td>\n",
              "      <td>Olive Kitteridge (2014)</td>\n",
              "      <td>Drama</td>\n",
              "      <td>200</td>\n",
              "      <td>13</td>\n",
              "      <td>1.961149</td>\n",
              "    </tr>\n",
              "    <tr>\n",
              "      <th>6182225</th>\n",
              "      <td>200</td>\n",
              "      <td>102378</td>\n",
              "      <td>3.51685</td>\n",
              "      <td>5.0</td>\n",
              "      <td>{'actual_k': 1, 'was_impossible': False}</td>\n",
              "      <td>102378</td>\n",
              "      <td>Syrup (2013)</td>\n",
              "      <td>Comedy|Drama</td>\n",
              "      <td>200</td>\n",
              "      <td>13</td>\n",
              "      <td>1.961149</td>\n",
              "    </tr>\n",
              "    <tr>\n",
              "      <th>6182231</th>\n",
              "      <td>200</td>\n",
              "      <td>111387</td>\n",
              "      <td>3.51685</td>\n",
              "      <td>5.0</td>\n",
              "      <td>{'actual_k': 1, 'was_impossible': False}</td>\n",
              "      <td>111387</td>\n",
              "      <td>Palo Alto (2013)</td>\n",
              "      <td>Drama</td>\n",
              "      <td>200</td>\n",
              "      <td>13</td>\n",
              "      <td>1.961149</td>\n",
              "    </tr>\n",
              "  </tbody>\n",
              "</table>\n",
              "</div>\n",
              "      <button class=\"colab-df-convert\" onclick=\"convertToInteractive('df-85c33886-6a77-4dee-a7c6-4e9c001800dd')\"\n",
              "              title=\"Convert this dataframe to an interactive table.\"\n",
              "              style=\"display:none;\">\n",
              "        \n",
              "  <svg xmlns=\"http://www.w3.org/2000/svg\" height=\"24px\"viewBox=\"0 0 24 24\"\n",
              "       width=\"24px\">\n",
              "    <path d=\"M0 0h24v24H0V0z\" fill=\"none\"/>\n",
              "    <path d=\"M18.56 5.44l.94 2.06.94-2.06 2.06-.94-2.06-.94-.94-2.06-.94 2.06-2.06.94zm-11 1L8.5 8.5l.94-2.06 2.06-.94-2.06-.94L8.5 2.5l-.94 2.06-2.06.94zm10 10l.94 2.06.94-2.06 2.06-.94-2.06-.94-.94-2.06-.94 2.06-2.06.94z\"/><path d=\"M17.41 7.96l-1.37-1.37c-.4-.4-.92-.59-1.43-.59-.52 0-1.04.2-1.43.59L10.3 9.45l-7.72 7.72c-.78.78-.78 2.05 0 2.83L4 21.41c.39.39.9.59 1.41.59.51 0 1.02-.2 1.41-.59l7.78-7.78 2.81-2.81c.8-.78.8-2.07 0-2.86zM5.41 20L4 18.59l7.72-7.72 1.47 1.35L5.41 20z\"/>\n",
              "  </svg>\n",
              "      </button>\n",
              "      \n",
              "  <style>\n",
              "    .colab-df-container {\n",
              "      display:flex;\n",
              "      flex-wrap:wrap;\n",
              "      gap: 12px;\n",
              "    }\n",
              "\n",
              "    .colab-df-convert {\n",
              "      background-color: #E8F0FE;\n",
              "      border: none;\n",
              "      border-radius: 50%;\n",
              "      cursor: pointer;\n",
              "      display: none;\n",
              "      fill: #1967D2;\n",
              "      height: 32px;\n",
              "      padding: 0 0 0 0;\n",
              "      width: 32px;\n",
              "    }\n",
              "\n",
              "    .colab-df-convert:hover {\n",
              "      background-color: #E2EBFA;\n",
              "      box-shadow: 0px 1px 2px rgba(60, 64, 67, 0.3), 0px 1px 3px 1px rgba(60, 64, 67, 0.15);\n",
              "      fill: #174EA6;\n",
              "    }\n",
              "\n",
              "    [theme=dark] .colab-df-convert {\n",
              "      background-color: #3B4455;\n",
              "      fill: #D2E3FC;\n",
              "    }\n",
              "\n",
              "    [theme=dark] .colab-df-convert:hover {\n",
              "      background-color: #434B5C;\n",
              "      box-shadow: 0px 1px 3px 1px rgba(0, 0, 0, 0.15);\n",
              "      filter: drop-shadow(0px 1px 2px rgba(0, 0, 0, 0.3));\n",
              "      fill: #FFFFFF;\n",
              "    }\n",
              "  </style>\n",
              "\n",
              "      <script>\n",
              "        const buttonEl =\n",
              "          document.querySelector('#df-85c33886-6a77-4dee-a7c6-4e9c001800dd button.colab-df-convert');\n",
              "        buttonEl.style.display =\n",
              "          google.colab.kernel.accessAllowed ? 'block' : 'none';\n",
              "\n",
              "        async function convertToInteractive(key) {\n",
              "          const element = document.querySelector('#df-85c33886-6a77-4dee-a7c6-4e9c001800dd');\n",
              "          const dataTable =\n",
              "            await google.colab.kernel.invokeFunction('convertToInteractive',\n",
              "                                                     [key], {});\n",
              "          if (!dataTable) return;\n",
              "\n",
              "          const docLinkHtml = 'Like what you see? Visit the ' +\n",
              "            '<a target=\"_blank\" href=https://colab.research.google.com/notebooks/data_table.ipynb>data table notebook</a>'\n",
              "            + ' to learn more about interactive tables.';\n",
              "          element.innerHTML = '';\n",
              "          dataTable['output_type'] = 'display_data';\n",
              "          await google.colab.output.renderOutput(dataTable, element);\n",
              "          const docLink = document.createElement('div');\n",
              "          docLink.innerHTML = docLinkHtml;\n",
              "          element.appendChild(docLink);\n",
              "        }\n",
              "      </script>\n",
              "    </div>\n",
              "  </div>\n",
              "  "
            ]
          },
          "metadata": {},
          "execution_count": 29
        }
      ]
    },
    {
      "cell_type": "markdown",
      "id": "9afe8612",
      "metadata": {
        "id": "9afe8612"
      },
      "source": [
        "### Item - based collaborative filtering"
      ]
    },
    {
      "cell_type": "code",
      "execution_count": null,
      "id": "e318daaf",
      "metadata": {
        "id": "e318daaf",
        "outputId": "411b755b-b515-422d-b08a-8f1648f46e10",
        "colab": {
          "base_uri": "https://localhost:8080/"
        }
      },
      "outputs": [
        {
          "output_type": "stream",
          "name": "stdout",
          "text": [
            "Computing the cosine similarity matrix...\n",
            "Done computing similarity matrix.\n"
          ]
        },
        {
          "output_type": "execute_result",
          "data": {
            "text/plain": [
              "<surprise.prediction_algorithms.knns.KNNWithMeans at 0x7f1f4987d730>"
            ]
          },
          "metadata": {},
          "execution_count": 30
        }
      ],
      "source": [
        "# K value represents the (max) number of neighbors to take into account for aggregation. Example for every item it gives 50 nearest ones.\n",
        "# There are many similarity options to calculate the similarity between the neighbors . Here, we have used the cosine similarity.\n",
        "# when user_based = False then it performs item based collaborative filtering\n",
        "\n",
        "algo_i = KNNWithMeans(k=50, sim_options={'name': 'cosine', 'user_based': False})\n",
        "algo_i.fit(trainset)"
      ]
    },
    {
      "cell_type": "code",
      "execution_count": null,
      "id": "00dbf14b",
      "metadata": {
        "id": "00dbf14b"
      },
      "outputs": [],
      "source": [
        "# run the trained model against the testset\n",
        "test_pred = algo_i.test(testset)"
      ]
    },
    {
      "cell_type": "code",
      "execution_count": null,
      "id": "478c6169",
      "metadata": {
        "id": "478c6169",
        "outputId": "d3ca9d78-7336-4a42-99c5-b9cbe473c6c3",
        "colab": {
          "base_uri": "https://localhost:8080/"
        }
      },
      "outputs": [
        {
          "output_type": "execute_result",
          "data": {
            "text/plain": [
              "Prediction(uid=308, iid=7438, r_ui=4.0, est=3.8166317964999177, details={'actual_k': 50, 'was_impossible': False})"
            ]
          },
          "metadata": {},
          "execution_count": 32
        }
      ],
      "source": [
        "test_pred[0]"
      ]
    },
    {
      "cell_type": "markdown",
      "source": [
        "uid – The (raw) user id. \n",
        "\n",
        "iid – The (raw) item id. \n",
        "\n",
        "r_ui (float) – The true rating .\n",
        "\n",
        "est (float) – The estimated rating. This is calculated by taking mean ratings of each user for user-based collab filtering.\n",
        "\n",
        "details (dict) – Stores additional details about the prediction.\n",
        "\n",
        "In this details was_impossible defines status of the true rating \n",
        "-  if was_impossible: False - Then there is some true rating.\n",
        "-  else if was_impossible: True - Then there is no information on true rating for that particular record."
      ],
      "metadata": {
        "id": "qpTVpYxHu4za"
      },
      "id": "qpTVpYxHu4za"
    },
    {
      "cell_type": "code",
      "execution_count": null,
      "id": "1a82f545",
      "metadata": {
        "id": "1a82f545",
        "outputId": "ea4a4c9b-cee7-413c-fe86-5e8dbbf25886",
        "colab": {
          "base_uri": "https://localhost:8080/"
        }
      },
      "outputs": [
        {
          "output_type": "stream",
          "name": "stdout",
          "text": [
            "Item-based Model : Test Set\n",
            "RMSE: 0.8982\n"
          ]
        },
        {
          "output_type": "execute_result",
          "data": {
            "text/plain": [
              "0.8982040421726045"
            ]
          },
          "metadata": {},
          "execution_count": 33
        }
      ],
      "source": [
        "# get RMSE on test set\n",
        "print(\"Item-based Model : Test Set\")\n",
        "accuracy.rmse(test_pred, verbose=True)"
      ]
    },
    {
      "cell_type": "code",
      "execution_count": null,
      "id": "d0ad6939",
      "metadata": {
        "id": "d0ad6939"
      },
      "outputs": [],
      "source": [
        "# we can query for specific predicions\n",
        "uid = str(196)  # raw user id\n",
        "iid = str(303)  # raw item id"
      ]
    },
    {
      "cell_type": "code",
      "execution_count": null,
      "id": "34e5d3a3",
      "metadata": {
        "id": "34e5d3a3",
        "outputId": "eb6f730c-5681-4931-e988-419dcd777da7",
        "colab": {
          "base_uri": "https://localhost:8080/"
        }
      },
      "outputs": [
        {
          "output_type": "stream",
          "name": "stdout",
          "text": [
            "user: 196        item: 303        r_ui = None   est = 3.52   {'was_impossible': True, 'reason': 'User and/or item is unknown.'}\n"
          ]
        }
      ],
      "source": [
        "# get a prediction for specific users and items.\n",
        "pred = algo_i.predict(uid, iid, verbose=True)"
      ]
    },
    {
      "cell_type": "markdown",
      "source": [
        "For this user ```196``` for movie ```303``` the true rating is None where as the estimated rating is ```3.52```"
      ],
      "metadata": {
        "id": "EX0tIHa-tVTK"
      },
      "id": "EX0tIHa-tVTK"
    },
    {
      "cell_type": "markdown",
      "source": [
        "Finding the movies that are closest to the movieId 1 (Toy Story) based on our training set for algo_i model."
      ],
      "metadata": {
        "id": "P7Qkj-5Ls8Tq"
      },
      "id": "P7Qkj-5Ls8Tq"
    },
    {
      "cell_type": "code",
      "source": [
        "tsr_inner_id = algo_i.trainset.to_inner_iid(1) #Considering the movieId 1\n",
        "\n",
        "tsr_neighbors = algo_i.get_neighbors(tsr_inner_id, k=5) #Getting the 5 nearest neighbors for movieId 1\n",
        "\n",
        "movies[movies.movieId.isin([algo.trainset.to_raw_iid(inner_id)\n",
        "                       for inner_id in tsr_neighbors])] #Displaying the 5 nearest neighbors to the Toy Story."
      ],
      "metadata": {
        "colab": {
          "base_uri": "https://localhost:8080/",
          "height": 206
        },
        "id": "K0jK-DVWstzs",
        "outputId": "b4145503-c162-4265-cab6-6b9f4f07634c"
      },
      "id": "K0jK-DVWstzs",
      "execution_count": null,
      "outputs": [
        {
          "output_type": "execute_result",
          "data": {
            "text/plain": [
              "      movieId                                              title  \\\n",
              "3089     3919               Hellraiser III: Hell on Earth (1992)   \n",
              "4311     5668                              White Oleander (2002)   \n",
              "4635     6270            Akira Kurosawa's Dreams (Dreams) (1990)   \n",
              "5865     8933  Decline of the American Empire, The (Déclin de...   \n",
              "9436    96606                                     Samsara (2011)   \n",
              "\n",
              "             genres  \n",
              "3089         Horror  \n",
              "4311          Drama  \n",
              "4635  Drama|Fantasy  \n",
              "5865   Comedy|Drama  \n",
              "9436    Documentary  "
            ],
            "text/html": [
              "\n",
              "  <div id=\"df-86f92d8a-6c81-4b15-befb-d42e577e7719\">\n",
              "    <div class=\"colab-df-container\">\n",
              "      <div>\n",
              "<style scoped>\n",
              "    .dataframe tbody tr th:only-of-type {\n",
              "        vertical-align: middle;\n",
              "    }\n",
              "\n",
              "    .dataframe tbody tr th {\n",
              "        vertical-align: top;\n",
              "    }\n",
              "\n",
              "    .dataframe thead th {\n",
              "        text-align: right;\n",
              "    }\n",
              "</style>\n",
              "<table border=\"1\" class=\"dataframe\">\n",
              "  <thead>\n",
              "    <tr style=\"text-align: right;\">\n",
              "      <th></th>\n",
              "      <th>movieId</th>\n",
              "      <th>title</th>\n",
              "      <th>genres</th>\n",
              "    </tr>\n",
              "  </thead>\n",
              "  <tbody>\n",
              "    <tr>\n",
              "      <th>3089</th>\n",
              "      <td>3919</td>\n",
              "      <td>Hellraiser III: Hell on Earth (1992)</td>\n",
              "      <td>Horror</td>\n",
              "    </tr>\n",
              "    <tr>\n",
              "      <th>4311</th>\n",
              "      <td>5668</td>\n",
              "      <td>White Oleander (2002)</td>\n",
              "      <td>Drama</td>\n",
              "    </tr>\n",
              "    <tr>\n",
              "      <th>4635</th>\n",
              "      <td>6270</td>\n",
              "      <td>Akira Kurosawa's Dreams (Dreams) (1990)</td>\n",
              "      <td>Drama|Fantasy</td>\n",
              "    </tr>\n",
              "    <tr>\n",
              "      <th>5865</th>\n",
              "      <td>8933</td>\n",
              "      <td>Decline of the American Empire, The (Déclin de...</td>\n",
              "      <td>Comedy|Drama</td>\n",
              "    </tr>\n",
              "    <tr>\n",
              "      <th>9436</th>\n",
              "      <td>96606</td>\n",
              "      <td>Samsara (2011)</td>\n",
              "      <td>Documentary</td>\n",
              "    </tr>\n",
              "  </tbody>\n",
              "</table>\n",
              "</div>\n",
              "      <button class=\"colab-df-convert\" onclick=\"convertToInteractive('df-86f92d8a-6c81-4b15-befb-d42e577e7719')\"\n",
              "              title=\"Convert this dataframe to an interactive table.\"\n",
              "              style=\"display:none;\">\n",
              "        \n",
              "  <svg xmlns=\"http://www.w3.org/2000/svg\" height=\"24px\"viewBox=\"0 0 24 24\"\n",
              "       width=\"24px\">\n",
              "    <path d=\"M0 0h24v24H0V0z\" fill=\"none\"/>\n",
              "    <path d=\"M18.56 5.44l.94 2.06.94-2.06 2.06-.94-2.06-.94-.94-2.06-.94 2.06-2.06.94zm-11 1L8.5 8.5l.94-2.06 2.06-.94-2.06-.94L8.5 2.5l-.94 2.06-2.06.94zm10 10l.94 2.06.94-2.06 2.06-.94-2.06-.94-.94-2.06-.94 2.06-2.06.94z\"/><path d=\"M17.41 7.96l-1.37-1.37c-.4-.4-.92-.59-1.43-.59-.52 0-1.04.2-1.43.59L10.3 9.45l-7.72 7.72c-.78.78-.78 2.05 0 2.83L4 21.41c.39.39.9.59 1.41.59.51 0 1.02-.2 1.41-.59l7.78-7.78 2.81-2.81c.8-.78.8-2.07 0-2.86zM5.41 20L4 18.59l7.72-7.72 1.47 1.35L5.41 20z\"/>\n",
              "  </svg>\n",
              "      </button>\n",
              "      \n",
              "  <style>\n",
              "    .colab-df-container {\n",
              "      display:flex;\n",
              "      flex-wrap:wrap;\n",
              "      gap: 12px;\n",
              "    }\n",
              "\n",
              "    .colab-df-convert {\n",
              "      background-color: #E8F0FE;\n",
              "      border: none;\n",
              "      border-radius: 50%;\n",
              "      cursor: pointer;\n",
              "      display: none;\n",
              "      fill: #1967D2;\n",
              "      height: 32px;\n",
              "      padding: 0 0 0 0;\n",
              "      width: 32px;\n",
              "    }\n",
              "\n",
              "    .colab-df-convert:hover {\n",
              "      background-color: #E2EBFA;\n",
              "      box-shadow: 0px 1px 2px rgba(60, 64, 67, 0.3), 0px 1px 3px 1px rgba(60, 64, 67, 0.15);\n",
              "      fill: #174EA6;\n",
              "    }\n",
              "\n",
              "    [theme=dark] .colab-df-convert {\n",
              "      background-color: #3B4455;\n",
              "      fill: #D2E3FC;\n",
              "    }\n",
              "\n",
              "    [theme=dark] .colab-df-convert:hover {\n",
              "      background-color: #434B5C;\n",
              "      box-shadow: 0px 1px 3px 1px rgba(0, 0, 0, 0.15);\n",
              "      filter: drop-shadow(0px 1px 2px rgba(0, 0, 0, 0.3));\n",
              "      fill: #FFFFFF;\n",
              "    }\n",
              "  </style>\n",
              "\n",
              "      <script>\n",
              "        const buttonEl =\n",
              "          document.querySelector('#df-86f92d8a-6c81-4b15-befb-d42e577e7719 button.colab-df-convert');\n",
              "        buttonEl.style.display =\n",
              "          google.colab.kernel.accessAllowed ? 'block' : 'none';\n",
              "\n",
              "        async function convertToInteractive(key) {\n",
              "          const element = document.querySelector('#df-86f92d8a-6c81-4b15-befb-d42e577e7719');\n",
              "          const dataTable =\n",
              "            await google.colab.kernel.invokeFunction('convertToInteractive',\n",
              "                                                     [key], {});\n",
              "          if (!dataTable) return;\n",
              "\n",
              "          const docLinkHtml = 'Like what you see? Visit the ' +\n",
              "            '<a target=\"_blank\" href=https://colab.research.google.com/notebooks/data_table.ipynb>data table notebook</a>'\n",
              "            + ' to learn more about interactive tables.';\n",
              "          element.innerHTML = '';\n",
              "          dataTable['output_type'] = 'display_data';\n",
              "          await google.colab.output.renderOutput(dataTable, element);\n",
              "          const docLink = document.createElement('div');\n",
              "          docLink.innerHTML = docLinkHtml;\n",
              "          element.appendChild(docLink);\n",
              "        }\n",
              "      </script>\n",
              "    </div>\n",
              "  </div>\n",
              "  "
            ]
          },
          "metadata": {},
          "execution_count": 36
        }
      ]
    },
    {
      "cell_type": "markdown",
      "id": "5699472e",
      "metadata": {
        "id": "5699472e"
      },
      "source": [
        "### Matrix Factorization"
      ]
    },
    {
      "cell_type": "code",
      "execution_count": null,
      "id": "81389bc0",
      "metadata": {
        "id": "81389bc0"
      },
      "outputs": [],
      "source": [
        "from surprise import SVD\n",
        "from surprise.model_selection import cross_validate"
      ]
    },
    {
      "cell_type": "code",
      "execution_count": null,
      "id": "a4f15a39",
      "metadata": {
        "id": "a4f15a39",
        "outputId": "8c135133-df78-430b-c283-187ede02390f",
        "colab": {
          "base_uri": "https://localhost:8080/"
        }
      },
      "outputs": [
        {
          "output_type": "stream",
          "name": "stdout",
          "text": [
            "Evaluating RMSE, MAE of algorithm SVD on 5 split(s).\n",
            "\n",
            "                  Fold 1  Fold 2  Fold 3  Fold 4  Fold 5  Mean    Std     \n",
            "RMSE (testset)    0.8633  0.8646  0.8688  0.8748  0.8710  0.8685  0.0042  \n",
            "MAE (testset)     0.6631  0.6695  0.6705  0.6732  0.6717  0.6696  0.0035  \n",
            "RMSE (trainset)   0.6385  0.6399  0.6364  0.6380  0.6354  0.6376  0.0016  \n",
            "MAE (trainset)    0.4974  0.4980  0.4950  0.4973  0.4953  0.4966  0.0012  \n",
            "Fit time          2.11    1.52    1.50    1.53    1.56    1.65    0.23    \n",
            "Test time         2.09    0.18    0.23    0.16    0.16    0.56    0.76    \n"
          ]
        },
        {
          "output_type": "execute_result",
          "data": {
            "text/plain": [
              "{'test_rmse': array([0.86334692, 0.86461463, 0.86879976, 0.87479712, 0.87096511]),\n",
              " 'train_rmse': array([0.63854306, 0.63985388, 0.63643077, 0.63795128, 0.63539412]),\n",
              " 'test_mae': array([0.66308555, 0.66950198, 0.67050782, 0.67321333, 0.67170409]),\n",
              " 'train_mae': array([0.49735743, 0.49804085, 0.49499609, 0.49728045, 0.49533605]),\n",
              " 'fit_time': (2.1121771335601807,\n",
              "  1.5230817794799805,\n",
              "  1.502671241760254,\n",
              "  1.5310337543487549,\n",
              "  1.5575673580169678),\n",
              " 'test_time': (2.0912363529205322,\n",
              "  0.18477225303649902,\n",
              "  0.23265624046325684,\n",
              "  0.1557314395904541,\n",
              "  0.16026067733764648)}"
            ]
          },
          "metadata": {},
          "execution_count": 38
        }
      ],
      "source": [
        "svd = SVD() #Suprise library uses the SVD algorithm to perform the matrix factorisation where as other libraries uses ALS\n",
        "cross_validate(svd, data, measures=['rmse','mae'], cv = 5 , return_train_measures=True,verbose=True)\n",
        "##The dataset is divided into train and test and with 5 folds the rmse has been calculated"
      ]
    },
    {
      "cell_type": "markdown",
      "source": [
        "The above data gives the RMSE and MAE values for each fold as well as average value and standard deviation value.\n",
        "\n",
        "- ```test_rmse``` represents the rmse values of testsets.\n",
        "\n",
        "- ```train_rmse``` represents the rmse values of trainsets.\n",
        "\n",
        "- similarly, ```test_mae``` and ```train_mae``` represents MAE values of train and testsets.\n",
        "\n",
        "- ```fit_time``` represents time taken to fit the trainsets.\n",
        "\n",
        "- ```test_time``` represents time taken to fit the testsets."
      ],
      "metadata": {
        "id": "yCxxkZ-Wu-Va"
      },
      "id": "yCxxkZ-Wu-Va"
    },
    {
      "cell_type": "code",
      "execution_count": null,
      "id": "cc87d3be",
      "metadata": {
        "id": "cc87d3be",
        "outputId": "460b70dd-9874-4d9a-ea27-35474e819f66",
        "colab": {
          "base_uri": "https://localhost:8080/"
        }
      },
      "outputs": [
        {
          "output_type": "execute_result",
          "data": {
            "text/plain": [
              "<surprise.prediction_algorithms.matrix_factorization.SVD at 0x7f1f4a789e20>"
            ]
          },
          "metadata": {},
          "execution_count": 39
        }
      ],
      "source": [
        "trainset = data.build_full_trainset()\n",
        "svd.fit(trainset) ##Fitting the trainset with the help of svd"
      ]
    },
    {
      "cell_type": "code",
      "execution_count": null,
      "id": "e447ebf0",
      "metadata": {
        "id": "e447ebf0",
        "outputId": "7fe044ea-6c49-4f93-abb1-4f3812c27ab4",
        "colab": {
          "base_uri": "https://localhost:8080/"
        }
      },
      "outputs": [
        {
          "output_type": "execute_result",
          "data": {
            "text/plain": [
              "((668, 100), (10325, 100))"
            ]
          },
          "metadata": {},
          "execution_count": 40
        }
      ],
      "source": [
        "svd.pu.shape , svd.qi.shape #pu gives the embeddings of Users and qi gives the embeddings of Items."
      ]
    },
    {
      "cell_type": "code",
      "execution_count": null,
      "id": "448b2542",
      "metadata": {
        "id": "448b2542"
      },
      "outputs": [],
      "source": [
        "#Storing all the movie titles in items\n",
        "items = movies['title'].unique()\n",
        "##Considering the user '662' \n",
        "test = [[662, iid, 4] for iid in items]\n",
        "##Finding the user predictions(ratings) for all the movies\n",
        "predictions = svd.test(test)\n",
        "pred = pd.DataFrame(predictions)"
      ]
    },
    {
      "cell_type": "code",
      "execution_count": null,
      "id": "a0868b5d",
      "metadata": {
        "id": "a0868b5d"
      },
      "outputs": [],
      "source": [
        "a = pred.sort_values(by='est', ascending=False) ##Sorting the values based on the estimated predictions"
      ]
    },
    {
      "cell_type": "code",
      "execution_count": null,
      "id": "44e65cd4",
      "metadata": {
        "id": "44e65cd4",
        "outputId": "8cf4b546-76e2-489f-d6e6-c286bea526d3",
        "colab": {
          "base_uri": "https://localhost:8080/",
          "height": 363
        }
      },
      "outputs": [
        {
          "output_type": "execute_result",
          "data": {
            "text/plain": [
              "      uid                                                iid  r_ui       est  \\\n",
              "0     662                                   Toy Story (1995)     4  4.122779   \n",
              "6859  662                           Organization, The (1971)     4  4.122779   \n",
              "6881  662                      Lies My Father Told Me (1975)     4  4.122779   \n",
              "6882  662  We All Loved Each Other So Much (C'eravamo tan...     4  4.122779   \n",
              "6883  662  Lady Vengeance (Sympathy for Lady Vengeance) (...     4  4.122779   \n",
              "6884  662                               49th Parallel (1941)     4  4.122779   \n",
              "6885  662                                   Ted Bundy (2002)     4  4.122779   \n",
              "6886  662                   District 13 (Banlieue 13) (2004)     4  4.122779   \n",
              "6887  662                                  BloodRayne (2005)     4  4.122779   \n",
              "6888  662                                      Hostel (2005)     4  4.122779   \n",
              "\n",
              "                        details  \n",
              "0     {'was_impossible': False}  \n",
              "6859  {'was_impossible': False}  \n",
              "6881  {'was_impossible': False}  \n",
              "6882  {'was_impossible': False}  \n",
              "6883  {'was_impossible': False}  \n",
              "6884  {'was_impossible': False}  \n",
              "6885  {'was_impossible': False}  \n",
              "6886  {'was_impossible': False}  \n",
              "6887  {'was_impossible': False}  \n",
              "6888  {'was_impossible': False}  "
            ],
            "text/html": [
              "\n",
              "  <div id=\"df-a972f000-6260-4c48-bc96-f364f031db52\">\n",
              "    <div class=\"colab-df-container\">\n",
              "      <div>\n",
              "<style scoped>\n",
              "    .dataframe tbody tr th:only-of-type {\n",
              "        vertical-align: middle;\n",
              "    }\n",
              "\n",
              "    .dataframe tbody tr th {\n",
              "        vertical-align: top;\n",
              "    }\n",
              "\n",
              "    .dataframe thead th {\n",
              "        text-align: right;\n",
              "    }\n",
              "</style>\n",
              "<table border=\"1\" class=\"dataframe\">\n",
              "  <thead>\n",
              "    <tr style=\"text-align: right;\">\n",
              "      <th></th>\n",
              "      <th>uid</th>\n",
              "      <th>iid</th>\n",
              "      <th>r_ui</th>\n",
              "      <th>est</th>\n",
              "      <th>details</th>\n",
              "    </tr>\n",
              "  </thead>\n",
              "  <tbody>\n",
              "    <tr>\n",
              "      <th>0</th>\n",
              "      <td>662</td>\n",
              "      <td>Toy Story (1995)</td>\n",
              "      <td>4</td>\n",
              "      <td>4.122779</td>\n",
              "      <td>{'was_impossible': False}</td>\n",
              "    </tr>\n",
              "    <tr>\n",
              "      <th>6859</th>\n",
              "      <td>662</td>\n",
              "      <td>Organization, The (1971)</td>\n",
              "      <td>4</td>\n",
              "      <td>4.122779</td>\n",
              "      <td>{'was_impossible': False}</td>\n",
              "    </tr>\n",
              "    <tr>\n",
              "      <th>6881</th>\n",
              "      <td>662</td>\n",
              "      <td>Lies My Father Told Me (1975)</td>\n",
              "      <td>4</td>\n",
              "      <td>4.122779</td>\n",
              "      <td>{'was_impossible': False}</td>\n",
              "    </tr>\n",
              "    <tr>\n",
              "      <th>6882</th>\n",
              "      <td>662</td>\n",
              "      <td>We All Loved Each Other So Much (C'eravamo tan...</td>\n",
              "      <td>4</td>\n",
              "      <td>4.122779</td>\n",
              "      <td>{'was_impossible': False}</td>\n",
              "    </tr>\n",
              "    <tr>\n",
              "      <th>6883</th>\n",
              "      <td>662</td>\n",
              "      <td>Lady Vengeance (Sympathy for Lady Vengeance) (...</td>\n",
              "      <td>4</td>\n",
              "      <td>4.122779</td>\n",
              "      <td>{'was_impossible': False}</td>\n",
              "    </tr>\n",
              "    <tr>\n",
              "      <th>6884</th>\n",
              "      <td>662</td>\n",
              "      <td>49th Parallel (1941)</td>\n",
              "      <td>4</td>\n",
              "      <td>4.122779</td>\n",
              "      <td>{'was_impossible': False}</td>\n",
              "    </tr>\n",
              "    <tr>\n",
              "      <th>6885</th>\n",
              "      <td>662</td>\n",
              "      <td>Ted Bundy (2002)</td>\n",
              "      <td>4</td>\n",
              "      <td>4.122779</td>\n",
              "      <td>{'was_impossible': False}</td>\n",
              "    </tr>\n",
              "    <tr>\n",
              "      <th>6886</th>\n",
              "      <td>662</td>\n",
              "      <td>District 13 (Banlieue 13) (2004)</td>\n",
              "      <td>4</td>\n",
              "      <td>4.122779</td>\n",
              "      <td>{'was_impossible': False}</td>\n",
              "    </tr>\n",
              "    <tr>\n",
              "      <th>6887</th>\n",
              "      <td>662</td>\n",
              "      <td>BloodRayne (2005)</td>\n",
              "      <td>4</td>\n",
              "      <td>4.122779</td>\n",
              "      <td>{'was_impossible': False}</td>\n",
              "    </tr>\n",
              "    <tr>\n",
              "      <th>6888</th>\n",
              "      <td>662</td>\n",
              "      <td>Hostel (2005)</td>\n",
              "      <td>4</td>\n",
              "      <td>4.122779</td>\n",
              "      <td>{'was_impossible': False}</td>\n",
              "    </tr>\n",
              "  </tbody>\n",
              "</table>\n",
              "</div>\n",
              "      <button class=\"colab-df-convert\" onclick=\"convertToInteractive('df-a972f000-6260-4c48-bc96-f364f031db52')\"\n",
              "              title=\"Convert this dataframe to an interactive table.\"\n",
              "              style=\"display:none;\">\n",
              "        \n",
              "  <svg xmlns=\"http://www.w3.org/2000/svg\" height=\"24px\"viewBox=\"0 0 24 24\"\n",
              "       width=\"24px\">\n",
              "    <path d=\"M0 0h24v24H0V0z\" fill=\"none\"/>\n",
              "    <path d=\"M18.56 5.44l.94 2.06.94-2.06 2.06-.94-2.06-.94-.94-2.06-.94 2.06-2.06.94zm-11 1L8.5 8.5l.94-2.06 2.06-.94-2.06-.94L8.5 2.5l-.94 2.06-2.06.94zm10 10l.94 2.06.94-2.06 2.06-.94-2.06-.94-.94-2.06-.94 2.06-2.06.94z\"/><path d=\"M17.41 7.96l-1.37-1.37c-.4-.4-.92-.59-1.43-.59-.52 0-1.04.2-1.43.59L10.3 9.45l-7.72 7.72c-.78.78-.78 2.05 0 2.83L4 21.41c.39.39.9.59 1.41.59.51 0 1.02-.2 1.41-.59l7.78-7.78 2.81-2.81c.8-.78.8-2.07 0-2.86zM5.41 20L4 18.59l7.72-7.72 1.47 1.35L5.41 20z\"/>\n",
              "  </svg>\n",
              "      </button>\n",
              "      \n",
              "  <style>\n",
              "    .colab-df-container {\n",
              "      display:flex;\n",
              "      flex-wrap:wrap;\n",
              "      gap: 12px;\n",
              "    }\n",
              "\n",
              "    .colab-df-convert {\n",
              "      background-color: #E8F0FE;\n",
              "      border: none;\n",
              "      border-radius: 50%;\n",
              "      cursor: pointer;\n",
              "      display: none;\n",
              "      fill: #1967D2;\n",
              "      height: 32px;\n",
              "      padding: 0 0 0 0;\n",
              "      width: 32px;\n",
              "    }\n",
              "\n",
              "    .colab-df-convert:hover {\n",
              "      background-color: #E2EBFA;\n",
              "      box-shadow: 0px 1px 2px rgba(60, 64, 67, 0.3), 0px 1px 3px 1px rgba(60, 64, 67, 0.15);\n",
              "      fill: #174EA6;\n",
              "    }\n",
              "\n",
              "    [theme=dark] .colab-df-convert {\n",
              "      background-color: #3B4455;\n",
              "      fill: #D2E3FC;\n",
              "    }\n",
              "\n",
              "    [theme=dark] .colab-df-convert:hover {\n",
              "      background-color: #434B5C;\n",
              "      box-shadow: 0px 1px 3px 1px rgba(0, 0, 0, 0.15);\n",
              "      filter: drop-shadow(0px 1px 2px rgba(0, 0, 0, 0.3));\n",
              "      fill: #FFFFFF;\n",
              "    }\n",
              "  </style>\n",
              "\n",
              "      <script>\n",
              "        const buttonEl =\n",
              "          document.querySelector('#df-a972f000-6260-4c48-bc96-f364f031db52 button.colab-df-convert');\n",
              "        buttonEl.style.display =\n",
              "          google.colab.kernel.accessAllowed ? 'block' : 'none';\n",
              "\n",
              "        async function convertToInteractive(key) {\n",
              "          const element = document.querySelector('#df-a972f000-6260-4c48-bc96-f364f031db52');\n",
              "          const dataTable =\n",
              "            await google.colab.kernel.invokeFunction('convertToInteractive',\n",
              "                                                     [key], {});\n",
              "          if (!dataTable) return;\n",
              "\n",
              "          const docLinkHtml = 'Like what you see? Visit the ' +\n",
              "            '<a target=\"_blank\" href=https://colab.research.google.com/notebooks/data_table.ipynb>data table notebook</a>'\n",
              "            + ' to learn more about interactive tables.';\n",
              "          element.innerHTML = '';\n",
              "          dataTable['output_type'] = 'display_data';\n",
              "          await google.colab.output.renderOutput(dataTable, element);\n",
              "          const docLink = document.createElement('div');\n",
              "          docLink.innerHTML = docLinkHtml;\n",
              "          element.appendChild(docLink);\n",
              "        }\n",
              "      </script>\n",
              "    </div>\n",
              "  </div>\n",
              "  "
            ]
          },
          "metadata": {},
          "execution_count": 43
        }
      ],
      "source": [
        "a[0:10] ##TOP 10"
      ]
    },
    {
      "cell_type": "code",
      "execution_count": null,
      "id": "7dc61cca",
      "metadata": {
        "id": "7dc61cca"
      },
      "outputs": [],
      "source": [
        "testset = trainset.build_anti_testset()\n",
        "predictions_svd = svd.test(testset) #Predicting for the test set"
      ]
    },
    {
      "cell_type": "code",
      "execution_count": null,
      "id": "18b20bf2",
      "metadata": {
        "id": "18b20bf2",
        "outputId": "1b5d2b6c-db3c-416e-dd95-d01368e6b392",
        "colab": {
          "base_uri": "https://localhost:8080/"
        }
      },
      "outputs": [
        {
          "output_type": "stream",
          "name": "stdout",
          "text": [
            "SVD - RMSE: 0.4692648491936571\n",
            "SVD - MAE: 0.36674177423813115\n"
          ]
        }
      ],
      "source": [
        "print('SVD - RMSE:', accuracy.rmse(predictions_svd, verbose=False))\n",
        "print('SVD - MAE:', accuracy.mae(predictions_svd, verbose=False))"
      ]
    },
    {
      "cell_type": "markdown",
      "id": "2dfc16d4",
      "metadata": {
        "id": "2dfc16d4"
      },
      "source": [
        "**For complete documentation on Suprise library refer to the below link:**\n",
        "\n",
        "<a href=\"https://surprise.readthedocs.io/en/stable/\">Suprise Documentation</a>"
      ]
    }
  ],
  "metadata": {
    "kernelspec": {
      "display_name": "Python 3 (ipykernel)",
      "language": "python",
      "name": "python3"
    },
    "language_info": {
      "codemirror_mode": {
        "name": "ipython",
        "version": 3
      },
      "file_extension": ".py",
      "mimetype": "text/x-python",
      "name": "python",
      "nbconvert_exporter": "python",
      "pygments_lexer": "ipython3",
      "version": "3.9.12"
    },
    "colab": {
      "provenance": [],
      "include_colab_link": true
    }
  },
  "nbformat": 4,
  "nbformat_minor": 5
}